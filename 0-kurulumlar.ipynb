{
 "cells": [
  {
   "cell_type": "markdown",
   "metadata": {},
   "source": [
    "# KURULUMLAR\n",
    "İşe Python 3'ü yükleyerek başlayacağız. Aşağıda Mac ve Windows İşletim Sistemlerine  yükleme adımları anlatılmıştır. Linux kullanıyorsanız, dağıtımınızın paket yöneticisini kullanarak Python 3’ü yükleyebilirsiniz.\n",
    "\n",
    "#### Mac'e Python 3 yükleme:\n",
    "Eğer bir Mac'iniz varsa, Python 2 önceden yüklü halde gelmektedir. Terminalinizi açıp aşağıdaki komutu çalıştırarak mevcut Python sürümünüzü kontrol edebilirsiniz:"
   ]
  },
  {
   "cell_type": "code",
   "execution_count": null,
   "metadata": {},
   "outputs": [],
   "source": [
    "python --version"
   ]
  },
  {
   "cell_type": "markdown",
   "metadata": {},
   "source": [
    "Bu komut Python 3.5 veya daha yüksek bir değeri döndürürse, tebrikler! Her şey yolunda ve modülleri yüklemeye hazırsınız demektir. Bir sonraki adıma geçebilirsiniz. \n",
    "\n",
    "Daha yüksek bir ihtimalle sistemde Python 2.x kurulu olacağından Python 3'ü de yüklememiz gerekiyor. İşiniz bittiğinde her iki versiyona da erişebilirsiniz.\n",
    "\n",
    "Python'u kurmak için çeşitli yollar vardır. Biz bu iş için Mac OS’un “resmi” gayri resmi paket yöneticisi olan Homebrew'ı kullanacağız.  Homebrew, Mac’te profesyonel yazılımcılar tarafından sıklıkla  kullanılmaktadır. Bu yüzden bu programın yüklü olması işimizi oldukça kolaylaştıracaktır.\n",
    "İlk önce Homebrew'ın kurulu olup olmadığını kontrol edin:\n"
   ]
  },
  {
   "cell_type": "code",
   "execution_count": null,
   "metadata": {},
   "outputs": [],
   "source": [
    "brew"
   ]
  },
  {
   "cell_type": "markdown",
   "metadata": {},
   "source": [
    "Eğer “-bash: brew: command not found” çıktısını alırsanız homebrew kurulu değil demektir. Aksi durumda program kuruludur. Programın güncel olduğundan emin olun ve aşağıdaki komutu çalıştırın:\n"
   ]
  },
  {
   "cell_type": "code",
   "execution_count": null,
   "metadata": {},
   "outputs": [],
   "source": [
    "brew update"
   ]
  },
  {
   "cell_type": "markdown",
   "metadata": {},
   "source": [
    "Homebrew ve Python'u yükleyebilmeniz için, Apple “Xcode ve XCode Komut Satırı Araçları”nın güncel bir sürümünün yüklü olması gerekmektedir. Bunun yüklü olup olmadığının kontrol işlemi ise Mac OS sürümünüze bağlıdır.\n",
    "\n",
    "“XCode Komut Satırı Araçları” yüklü değilse, XCode İnternet sayfasına gidin, XCode'u indirin ve yükleyin. Son olarak, terminalinizden aşağıdaki komutu çalıştırarak XCode Komut Satırı Araçları'nı yükleyin.\n"
   ]
  },
  {
   "cell_type": "code",
   "execution_count": null,
   "metadata": {},
   "outputs": [],
   "source": [
    "xcode-select --install"
   ]
  },
  {
   "cell_type": "markdown",
   "metadata": {},
   "source": [
    "“XCode ve XCode Komut Satırı Araçları”nın yüklenmesiyle birlikte, Homebrew'ı yüklemeye hazırız. brew.sh’in en başındaki tek satırlık kurulum komutunu terminalinize yapıştırın ve “Enter”a basın. \n"
   ]
  },
  {
   "cell_type": "code",
   "execution_count": null,
   "metadata": {},
   "outputs": [],
   "source": [
    "/usr/bin/ruby -e \"$(curl -fsSL \\\n",
    "https://raw.githubusercontent.com/Homebrew/install/master/install)\"\n"
   ]
  },
  {
   "cell_type": "markdown",
   "metadata": {},
   "source": [
    "Kurulumun çalıştığını aşağıdaki komutla doğrulayın:\n"
   ]
  },
  {
   "cell_type": "code",
   "execution_count": null,
   "metadata": {},
   "outputs": [],
   "source": [
    "brew update"
   ]
  },
  {
   "cell_type": "markdown",
   "metadata": {},
   "source": [
    "Homebrew’in kurulmasının ardından Python 3'ü aşağıdaki komutla kurmaya hazırsınız:\n"
   ]
  },
  {
   "cell_type": "code",
   "execution_count": null,
   "metadata": {},
   "outputs": [],
   "source": [
    "brew install python3"
   ]
  },
  {
   "cell_type": "markdown",
   "metadata": {},
   "source": [
    "Bu komut Python 3'ü kuracak ve interaktif Python yorumlayıcısının $ python3 \n",
    "komutunu çalıştırmasına izin verecektir.\n",
    "$ Python komutu muhtemelen önceden kurulu olan Python 2.x’i işaret edecektir.\n",
    "\n",
    "Kurulumun çalıştığını aşağıdaki komutla doğrulayın:\n"
   ]
  },
  {
   "cell_type": "code",
   "execution_count": null,
   "metadata": {},
   "outputs": [],
   "source": [
    "python3 --version"
   ]
  },
  {
   "cell_type": "markdown",
   "metadata": {},
   "source": [
    "Yükleme başarılı olursa, bu komut Python 3.6.2 gibi bir çıktı vermelidir. Tebrikler! \n",
    "\n",
    "#### Alternatif olarak\n",
    "Python 3'ü ve daha sonra ele alacağımız paketleri sağlayacağınız “Anaconda'yı” kurabilirsiniz. Ancak bu Homebrew'u kurmak ve kullanmak kadar uzun vadeli bir seçenek değildir.\n"
   ]
  },
  {
   "cell_type": "markdown",
   "metadata": {},
   "source": [
    "#### Windows\n",
    "Bir Windows makineniz varsa, Python.org’un indirme sayfasından doğrudan Python 3'ü yükleyeceğiz. Önerilen sürüm, en son kararlı sürümdür.\n",
    "(Bu yazı itibariyle 3.6.2.) Windows'a özel yükleme notları için Windows Python'u kullanarak Python belgelerine bakın. \"Python 3.x” i PATH\"e eklemeniz gerekecektir. \n",
    "\n",
    "Ayrıca çalışmak için iyi bir “shell” isteyeceksiniz. İşletim sisteminizin sürümüne bağlı olarak muhtemelen “PowerShell” kuruludur. PowerShell kuruluysa hangi sürüme sahip olduğunuzu kontrol edin. Eğer ihtiyacınız varsa PowerShell GitHub deposuna gidin, en son sürümü indirin ve yükleyin.\n"
   ]
  },
  {
   "cell_type": "markdown",
   "metadata": {},
   "source": [
    "## Modüllerin Yüklenmesi\n",
    "\n",
    "Python 3'ü kurduğunuzda, Python için ücretsiz paket yöneticisi olarak “pip” de kurmuş oldunuz. Python araçlarını indirmek ve yönetmek için sıklıkla pip kullanacaksınız.\n",
    "\n",
    "Eğer bir şekilde Python 3'ü yüklemediyseniz veya Python 3 sürümünüz 3.4'ten küçükse “pip” kurulmamış olabilir. Aşağıdaki adımları takip ederek “pip” i kurabilirsiniz ancak , ancak Python'un en yeni versiyonunu yüklemeniz daha iyi olacaktır.\n",
    "\n",
    "Bu talimatlar Mac, Windows ve Linux platformlarında çalışmalıdır. \n",
    "Yüklemenizi kontrol edelim:\n",
    "\n"
   ]
  },
  {
   "cell_type": "markdown",
   "metadata": {},
   "source": [
    "These instructions should work across Mac, Windows, and Linux platforms.\n",
    "\n",
    "Let's confirm your install:"
   ]
  },
  {
   "cell_type": "code",
   "execution_count": null,
   "metadata": {},
   "outputs": [],
   "source": [
    "pip --version"
   ]
  },
  {
   "cell_type": "markdown",
   "metadata": {},
   "source": [
    "Bu komut hata veriyorsa pip yüklenmemiş demektir. Path’iniz ve sürümleriniz kısmen farklı görünebilir. Önemli olan, Python sürümünüzün en az 3.5 olmasıdır. Bunun yerine Python 2'yi gösteriyorsa, sisteminizde Python 3 sürümünü pip3 olarak görebilirsiniz.\n",
    "\n",
    "Aşağıdaki komutu deneyin:\n"
   ]
  },
  {
   "cell_type": "code",
   "execution_count": null,
   "metadata": {},
   "outputs": [],
   "source": [
    "pip3 --version. "
   ]
  },
  {
   "cell_type": "markdown",
   "metadata": {},
   "source": [
    "Eğer bu işe yaradıysa, aşağıdaki tüm örneklerde pip yerine pip3 yazın. Devam etmeden önce aşağıdaki komutu girerek en yeni pip sürümüne sahip olduğunuzdan emin olun:\n"
   ]
  },
  {
   "cell_type": "code",
   "execution_count": null,
   "metadata": {},
   "outputs": [],
   "source": [
    "python -m pip install -U pip"
   ]
  },
  {
   "cell_type": "markdown",
   "metadata": {},
   "source": [
    "Aşağıdaki yönergeler python3 veya pip3 yerine tutarlılık için python ve pip kullanır. Sisteminiz için python'u python3 ve pip3 pip ile değiştirin.\n"
   ]
  },
  {
   "cell_type": "markdown",
   "metadata": {},
   "source": [
    "## NumPy\n",
    "NumPy temel bilimsel işlem paketidir. Diğer çoğu Python veri bilimi araçları NumPy'nin üstüne inşa edilir ve bağımlılık olarak değerlendirilir. NumPy'ı şu şekilde yükleyebilirsiniz:\n"
   ]
  },
  {
   "cell_type": "code",
   "execution_count": null,
   "metadata": {},
   "outputs": [],
   "source": [
    "python -m pip install numpy"
   ]
  },
  {
   "cell_type": "markdown",
   "metadata": {},
   "source": [
    "Numpy oldukça büyük bir pakettir ve yüklenmesi biraz zaman alabilir. 2016'nın ortasından itibaren NumPy, yukarıdaki komutla, Windows makinelerde de başarıyla yüklenebilmelidir. Yüklemenizi başarılı olup olmadığını komut satırında “pip freeze” yazarak kontrol edin.  Bu tüm Python paketlerini listeleyecek yüklediniz ve NumPy'yi dahil etmelisiniz. \n",
    "## Pandas\n",
    "Pandas, veri manipülasyonu kütüphanesidir. Bu kütüphane size sürekli kullanacağınız özel nesneler (özellikle veri çerçevesi - dataframe) sunar.\n"
   ]
  },
  {
   "cell_type": "code",
   "execution_count": null,
   "metadata": {},
   "outputs": [],
   "source": [
    "python -m pip install pandas"
   ]
  },
  {
   "cell_type": "markdown",
   "metadata": {},
   "source": [
    "Yüklemenizi “pip freeze” yazarak kontrol edin.\n",
    "\n",
    "## Matplotlib\n",
    "Matplotlib, görselleştirmelerinizin çoğunu oluşturmak için kullanacağınız 2 boyutlu çizim kütüphanesidir. Bu kütüphaneyi hem veri araştırması hem de sunum için kullanacaksınız.\n"
   ]
  },
  {
   "cell_type": "code",
   "execution_count": null,
   "metadata": {},
   "outputs": [],
   "source": [
    "python -m pip install matplotlib"
   ]
  },
  {
   "cell_type": "markdown",
   "metadata": {},
   "source": [
    "“pip freeze” yazarak kurulumu kontrol edebilirsiniz.\n",
    "\n",
    "## SciPy\n",
    "SciPy, birçok algoritmayı ve kullanışlı fonksiyonları barındıran temel bir kütüphanedir. Aynı zamanda ileride yükleyeceğiniz diğer birçok paketin temelini oluşturur.\n"
   ]
  },
  {
   "cell_type": "code",
   "execution_count": null,
   "metadata": {},
   "outputs": [],
   "source": [
    "python -m pip install scipy"
   ]
  },
  {
   "cell_type": "markdown",
   "metadata": {},
   "source": [
    "## Install Jupyter Notebooks\n",
    "Jupyter notebooks, Python'u etkileşimli olarak yazmanıza, çalıştırmanıza ve görselleştirmenize izin verir. Bu kursta Python programları yazmak için IDE olarak Jupyter notebooks kullanacaksınız. \n"
   ]
  },
  {
   "cell_type": "code",
   "execution_count": null,
   "metadata": {},
   "outputs": [],
   "source": [
    "python -m pip install jupyter"
   ]
  },
  {
   "cell_type": "markdown",
   "metadata": {},
   "source": [
    "Son bir kez “pip freeze” girerek kurulumu kontrol edin.\n",
    "\n",
    "Jupyter notebook kulanmaya başlamak için komut satırından aşağıdaki komutu girin.\n"
   ]
  },
  {
   "cell_type": "code",
   "execution_count": null,
   "metadata": {},
   "outputs": [],
   "source": [
    "jupyter notebook "
   ]
  },
  {
   "cell_type": "markdown",
   "metadata": {},
   "source": [
    "\n",
    "Bu komut, Jupyter sunucusunu başlatacak ve bir tarayıcı sekmesi açacaktır. Bu sunucuyu kapatmak istediğiniz zaman komutun çalıştığı terminal penceresini kapatabilir ya da CTRL+C tuş kombinasyonunu kullanabilirsiniz. Tarayıcınızı kapatırsanız fakat sunucu hala çalışıyorsa sunucuya terminalinizde listelenen  http://localhost:8888/?token=. ile başlayan adres ile yeni bir sekme açabilirsiniz.\n",
    "Herşeyi kurduğunuza göre artık kullanmaya geçebiliriz..."
   ]
  },
  {
   "cell_type": "markdown",
   "metadata": {},
   "source": [
    "## Jupyter denilen bu şey nedir?\n",
    "\n",
    "Bu kurs boyunca, aynı zamanda iPython Notebooks, iPython veya sadece \"notebooks\" olarak bilinen “Jupyter Notebooks” adlı bir aracı yoğun şekilde kullanacağız. Bu aracı kurs boyunca kullanacağımız için, bunu tanıtmak, bazı özelliklerinden bahsetmek, birkaç ipucu ve püf noktası vermek için biraz zaman ayırmak istedik.  Böylelikle siz de bu araca bir aşinalık kazanacaksınız. \n",
    "\n",
    "Eğer bu aracı kullanmayı biliyorsanız bu bölümleri atlayabilirsiniz. Ancak ilk kez kullanacaksanız burada bahsedilecek bilgilerin bu aracı kullanarak araştırma, geliştirme ve raporlamayı nasıl yapacağınıza dair değerli bir referans olduğunu unutmayın.\n",
    "\n",
    "Sonraki bölümlere geçmeden önce “Jupyter Notebooks”’un kurulu olup olmadığını komut satırından aşağıdaki kodu çalıştırarak öğrenebilirsiniz:\n"
   ]
  },
  {
   "cell_type": "code",
   "execution_count": null,
   "metadata": {},
   "outputs": [],
   "source": [
    "jupyter --version"
   ]
  },
  {
   "cell_type": "markdown",
   "metadata": {},
   "source": [
    "\n",
    "## Jupyterin Çalıştırılması\n",
    "\n",
    "Jupyter, komut satırından çalıştırılır. Bunun için tek yapmanız gereken komut satırını kullanarak çalışmak istediğiniz dizine gitmek ve ```jupyter notebook``` yazdıktan sonra Enter’e basmak. \n",
    "\n",
    "Halihazırda var olan bir notebook açmak isterseniz komut satırından: \n",
    "\n",
    "```\n",
    "jupyter notebook [your/particular/filepath]\n",
    "```\n",
    "\n",
    "yazabilirsiniz.\n",
    "\n",
    "Bir “notebook” başlatmak, programınızı makinenizde çalıştıracak bir kernel oluşturur. Eğer bir dizini açtıysanız bir dizin göreceksiniz. Ancak bir dosya açtıysanız yeni bir dosyanın açıldığını göreceksiniz.\n",
    "\n",
    "Ayrıca, “Jupyter notebooks” birçok farklı dili çalıştırabilir. Başlangıçta Python için geliştirildi, ama şimdi R ve diğer birçok dili desteklemektedir. Programlama dilinizi seçin ve  yeni bir not defteri oluşturun.\n",
    "\n",
    "\n",
    "\n",
    "## Hücreler\n",
    "\n",
    "Notebooks, hücrelere(cells) bölünmüştür. Hücreler, notebooks’a koyduğunuz tüm içerikleri barındırır. Aşağıda basit bir kod içeren bir hücremiz var.\n"
   ]
  },
  {
   "cell_type": "code",
   "execution_count": 5,
   "metadata": {},
   "outputs": [],
   "source": [
    "message = 'Hello! This string is stored in the variable \"message\"'"
   ]
  },
  {
   "cell_type": "markdown",
   "metadata": {},
   "source": [
    "Bir hücreye sadece kod yazdığınızda hiçbir şey olmaz. O kodu çalıştırmak gerekir. Bir hücreyi çalıştırmak için, dizüstü bilgisayarın üst kısmındaki menü çubuğundan çalıştır (run cell)  butonuna basabilirsiniz. Ya da hücreyi seçip shift + Enter kombinasyonuna basabilirsiniz.\n",
    "\n",
    "Hücreler iki şekilde seçilebilir. İlk olarak, hürcre seçiliyse ancak içerisinde imleç yeralmıyorsa inaktiftir. Hücrenin içinde bir imleç varsa, hücre aktiftir ve içine girebilirsiniz \n",
    "\n",
    "Bir notebook, ihtiyacınız olan herhangi bir sayıda hücreye sahip olabilir. Hücre eklemenin birkaç yolu vardır. Notebook’ta son hücreyi çalıştırırdığınızda, otomatik olarak yeni bir hücre eklenir. Ayrıca, eğer seçili ancak inaktif bir hücreniz varsa, bu hücrenin üstüne bir hücre eklemek isterseniz <kbd>a</kbd>’ya altına bir hücre eklemek isterseniz ise <kbd>b</kbd>’ye basabiliirsiniz. Bir hücre silmek için ise <kbd>d</kbd>’ye iki kez basabilirsiniz.\n",
    "\n",
    "Her notebook tek bir Python ortamında çalışır. Bu birkaç şey anlamına gelir. İlk olarak, kod çalıştırdığınız sıraya göre çalıştırılır. Tüm “Notebook” için değişkenler, fonksiyonlar ve benzerleri tutulur. Yani `message` burada bile hala bir şey ifade ediyor: (Başka hücrede olmasına rağmen değişkenin içeriği korunuyor)\n"
   ]
  },
  {
   "cell_type": "code",
   "execution_count": 6,
   "metadata": {},
   "outputs": [
    {
     "name": "stdout",
     "output_type": "stream",
     "text": [
      "Hello! This string is stored in the variable \"message\"\n"
     ]
    }
   ],
   "source": [
    "print(message)"
   ]
  },
  {
   "cell_type": "markdown",
   "metadata": {},
   "source": [
    "Burada sorun da yaşayabilirsiniz. Hücrenizdeki kodu değiştirirseniz ve birden çok kez çalıştırırsanız, değişkenleri veya çıktıları, istemediğiniz bir şekilde değiştirebilirsiniz. Aynı olay hücreleri yanlış sırayla çalıştırırsanız da başınıza gelebilir. İşte bu yüzden, tüm kodunuzun sıralı ve çalıştırılabilir olması __ÇOK ÖNEMLİDİR__.\n",
    "\n",
    "Temel olarak bunun anlamı, notebook’u yeniden başlatabilmeli ve İstediğiniz sonuca ulaşmak için her hücreyi sıralı bir şekilde çalıştırabilmelisiniz. Eğer hücreleri sırasız bir şekilde veya tekrar tekrar çalıştırmanız gerekiyorsa, bu muhtemelen hem sizin için hem de kodunuzu okuyan herkes için sorunlara neden olacaktır. Eğer neyin hangi sıra ile çalıştırılacağı konsunda kafanız karıştıysa Sıfırdan her şeyi yeniden çalıştırmak için Yukarıdaki \"Kernel\" menüsü içinden \"Tümünü başlat ve çalıştır/Restart and Run all\" seçeneğini tıklamanız gerekebilir. Bu hareket, tüm notebook’u yeniden başlatacaktır.\n",
    "\n",
    "Notebook’taki hücreleri akıllıca kullanın. Birçok insan bir hücreyi bir adım olarak düşünür.  Hücreyi bir işlevi yazmak veya bir model çalıştırmak için kullanmalı, ancak tek bir hücrede çok fazla işlem yapmaya çalışmamalısınız. Basit tutarsanız kodunuz daha modüler,  okunması ve yeniden kullanılması daha kolay olacaktır.\n",
    "\n",
    "\n",
    "\n",
    "## Markdown\n",
    "\n",
    "Şimdiye kadar sadece kod hücreleri hakkında konuştuk, fakat başka türde hücreler de vardır. Bilmeniz gereken önemli hücre türlerinden birisi **markdown** hücresidir. Bu hücre aslında bir işaretleme hücresidir. Çift tıklayarak markdown hücresini görebilir ve düzenleyebilirsiniz. Hücreyi çalıştırarak nasıl çıktı ürettiğine bakabilirsiniz..\n",
    "\n",
    "Rapor yazmak için “notebook” kullandığınızda, kodun içinde bulunan yorumların(comment) çok da uygun olmayacağı notlar yazmak isteyebilirsiniz. Markdown hücresi bu amaçla kullanılabiilr. Varsayılan olarak her yeni hücre bir kod hücresidir. Bir hücreyi işaretlemeye dönüştürmek için, hücreyi seçin, inaktif olduğundan emin olun ve m’ye basın. Bu kadar basit. Jupyter tam işaretlemeyi destekler, böylece  aşağıdakiler gibi her tür şeyi yapabilirsiniz.\n",
    "\n",
    "_Italics_\n",
    "\n",
    "__Bold__\n",
    "\n",
    "# Büyük Başlık\n",
    "\n",
    "#### Küçük Başlık\n",
    "\n",
    "`satır içi kod`\n",
    "\n",
    "```python\n",
    "# ve syntax-vurgulayan\n",
    "çoksatırlı()\n",
    "codeblock = \"örnek\"\n",
    "```\n",
    "\n",
    "Metne gömülmüş HTML <kbd>key</kbd> tagleri ve <span style=\"color:red;\">özel CSS tagleri</span>.\n",
    "\n",
    "Ve LaTeX: $e^{i\\pi} + 1 = 0$\n",
    "\n",
    "Belki de en önemlisi, link verebilirsiniz: [örnek bir link :)](http://jupyter-notebook.readthedocs.io/en/latest/notebook.html).\n",
    "\n",
    "Jupyter notebooks ile ilgili olarak daha fazla bilgiye ihtiyacınız olursa onlara bu link üzerinden erişiebilirsiniz. Markdown hakkında detaya girmek isterseniz bu [linke](http://jupyter-notebook.readthedocs.io/en/latest/examples/Notebook/Working%20With%20Markdown%20Cells.html) tıklayabilirsiniz. \n",
    "\n",
    "\n",
    "\n",
    "Kodumuz hala çalışıyor ve `message` hala veri içeriyor  :)\n"
   ]
  },
  {
   "cell_type": "code",
   "execution_count": null,
   "metadata": {},
   "outputs": [],
   "source": [
    "print(message)"
   ]
  },
  {
   "cell_type": "markdown",
   "metadata": {},
   "source": [
    "Başlangıç için Jupyter ile bu kadar bilgi yeterlidir. Tabi [dokümanlara](http://jupyter-notebook.readthedocs.io/en/latest/notebook.html) göz atmanızda herzaman fayda var."
   ]
  }
 ],
 "metadata": {
  "kernelspec": {
   "display_name": "Python 3",
   "language": "python",
   "name": "python3"
  },
  "language_info": {
   "codemirror_mode": {
    "name": "ipython",
    "version": 3
   },
   "file_extension": ".py",
   "mimetype": "text/x-python",
   "name": "python",
   "nbconvert_exporter": "python",
   "pygments_lexer": "ipython3",
   "version": "3.6.5"
  }
 },
 "nbformat": 4,
 "nbformat_minor": 2
}
