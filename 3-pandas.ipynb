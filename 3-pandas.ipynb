{
 "cells": [
  {
   "cell_type": "markdown",
   "metadata": {
    "slideshow": {
     "slide_type": "slide"
    }
   },
   "source": [
    "# Pandas\n",
    "\n",
    "Pandas veri bilimcileri için Python'da muhtemelen en çok kullanılan pakettir. NumPy üzerine inşa edilmiş bir paket olarak, veri manipülasyon, organizasyon ve modelleme için çok önemlidir. Burada paketin temel işlevlerinin yanı sıra temel veri yapısı olan “veri çerçevesi / data frame”ni tanıtacağız. Önce kısaltması “pd” olan paketi import etmemiz gerekiyor. Ayrıca NumPy'yi import edeceğiz.\n"
   ]
  },
  {
   "cell_type": "code",
   "execution_count": 1,
   "metadata": {
    "slideshow": {
     "slide_type": "slide"
    }
   },
   "outputs": [],
   "source": [
    "import pandas as pd\n",
    "import numpy as np"
   ]
  },
  {
   "cell_type": "markdown",
   "metadata": {
    "slideshow": {
     "slide_type": "slide"
    }
   },
   "source": [
    "\n",
    "\n",
    "## Veri Çerçevesi / The Data Frame\n",
    "\n",
    "Veri çerçevesi, kolon adları ve satır indeksleme gibi birkaç ek özellik içeren bir NumPy dizisi gibidir. Muhtemelen veri bilim adamlarının verileri işleyişindeki birincil yoldur. Csv dosyalarından, veritabanlarını sorgulayarak veya açıkça gibi farklı şekillerde bir veri çerçevesi oluşturabilirsiniz. Ilk veri çerçeveniz için, bir önceki ödevde oluşturduğumuz 2 boyutlu diziyi hatırlayalım. Veri çerçevesi oluşturmak için pd.DataFrame () fonksiyonunu kullanın ve bir NumPy dizisinde geçirin:\n",
    "\n"
   ]
  },
  {
   "cell_type": "code",
   "execution_count": 31,
   "metadata": {
    "slideshow": {
     "slide_type": "slide"
    }
   },
   "outputs": [
    {
     "data": {
      "text/html": [
       "<div>\n",
       "<style scoped>\n",
       "    .dataframe tbody tr th:only-of-type {\n",
       "        vertical-align: middle;\n",
       "    }\n",
       "\n",
       "    .dataframe tbody tr th {\n",
       "        vertical-align: top;\n",
       "    }\n",
       "\n",
       "    .dataframe thead th {\n",
       "        text-align: right;\n",
       "    }\n",
       "</style>\n",
       "<table border=\"1\" class=\"dataframe\">\n",
       "  <thead>\n",
       "    <tr style=\"text-align: right;\">\n",
       "      <th></th>\n",
       "      <th>0</th>\n",
       "      <th>1</th>\n",
       "      <th>2</th>\n",
       "      <th>3</th>\n",
       "    </tr>\n",
       "  </thead>\n",
       "  <tbody>\n",
       "    <tr>\n",
       "      <th>0</th>\n",
       "      <td>0</td>\n",
       "      <td>1</td>\n",
       "      <td>2</td>\n",
       "      <td>3</td>\n",
       "    </tr>\n",
       "    <tr>\n",
       "      <th>1</th>\n",
       "      <td>4</td>\n",
       "      <td>5</td>\n",
       "      <td>6</td>\n",
       "      <td>7</td>\n",
       "    </tr>\n",
       "  </tbody>\n",
       "</table>\n",
       "</div>"
      ],
      "text/plain": [
       "   0  1  2  3\n",
       "0  0  1  2  3\n",
       "1  4  5  6  7"
      ]
     },
     "execution_count": 31,
     "metadata": {},
     "output_type": "execute_result"
    }
   ],
   "source": [
    "my_array = np.array([[0, 1, 2, 3], [4, 5, 6, 7]])\n",
    "df = pd.DataFrame(my_array)\n",
    "df"
   ]
  },
  {
   "cell_type": "markdown",
   "metadata": {
    "slideshow": {
     "slide_type": "slide"
    }
   },
   "source": [
    "\n",
    "__Şimdi ilk veri çerçeveniz var!__\n",
    "\n",
    "Excel'e aşina iseniz, Çoğu Pandas size tanıdık gelebilir. Veri çerçeveleri, isim verilebilen satır ve kolonlar olarak düzenlenmiştir. Kolonlar kolon adları, satırlar ise bir indeks numarası ile (varsayılan  olarak sıfır ile başlayarak) etiketlenir. Veri çerçevesinin oluşturulması sırasında veya sonrasında hem kolon isimlerini hem de indeksleri ayarlayabilirsiniz. Her iki df için de ayarlayalım.\n"
   ]
  },
  {
   "cell_type": "code",
   "execution_count": 32,
   "metadata": {
    "slideshow": {
     "slide_type": "slide"
    }
   },
   "outputs": [
    {
     "data": {
      "text/html": [
       "<div>\n",
       "<style scoped>\n",
       "    .dataframe tbody tr th:only-of-type {\n",
       "        vertical-align: middle;\n",
       "    }\n",
       "\n",
       "    .dataframe tbody tr th {\n",
       "        vertical-align: top;\n",
       "    }\n",
       "\n",
       "    .dataframe thead th {\n",
       "        text-align: right;\n",
       "    }\n",
       "</style>\n",
       "<table border=\"1\" class=\"dataframe\">\n",
       "  <thead>\n",
       "    <tr style=\"text-align: right;\">\n",
       "      <th></th>\n",
       "      <th>first</th>\n",
       "      <th>this</th>\n",
       "      <th>that</th>\n",
       "      <th>last</th>\n",
       "    </tr>\n",
       "  </thead>\n",
       "  <tbody>\n",
       "    <tr>\n",
       "      <th>row_1</th>\n",
       "      <td>0</td>\n",
       "      <td>1</td>\n",
       "      <td>2</td>\n",
       "      <td>3</td>\n",
       "    </tr>\n",
       "    <tr>\n",
       "      <th>row_2</th>\n",
       "      <td>4</td>\n",
       "      <td>5</td>\n",
       "      <td>6</td>\n",
       "      <td>7</td>\n",
       "    </tr>\n",
       "  </tbody>\n",
       "</table>\n",
       "</div>"
      ],
      "text/plain": [
       "       first  this  that  last\n",
       "row_1      0     1     2     3\n",
       "row_2      4     5     6     7"
      ]
     },
     "execution_count": 32,
     "metadata": {},
     "output_type": "execute_result"
    }
   ],
   "source": [
    "df.columns = ['first', 'this', 'that', 'last']\n",
    "df.index = ['row_1', 'row_2']\n",
    "df"
   ]
  },
  {
   "cell_type": "markdown",
   "metadata": {
    "slideshow": {
     "slide_type": "slide"
    }
   },
   "source": [
    "İşte bu daha iyi görünüyor.\n",
    "İlk başta veri çerçevesini oluşturmak için pd.DataFrame () fonksiyonunu çağırdığınızda kolon ve indeks adlarını columns = veya index= anahtar kelime argümanları aracılığıyla da ayarlayabilirsiniz.\n"
   ]
  },
  {
   "cell_type": "code",
   "execution_count": 33,
   "metadata": {
    "slideshow": {
     "slide_type": "slide"
    }
   },
   "outputs": [
    {
     "data": {
      "text/html": [
       "<div>\n",
       "<style scoped>\n",
       "    .dataframe tbody tr th:only-of-type {\n",
       "        vertical-align: middle;\n",
       "    }\n",
       "\n",
       "    .dataframe tbody tr th {\n",
       "        vertical-align: top;\n",
       "    }\n",
       "\n",
       "    .dataframe thead th {\n",
       "        text-align: right;\n",
       "    }\n",
       "</style>\n",
       "<table border=\"1\" class=\"dataframe\">\n",
       "  <thead>\n",
       "    <tr style=\"text-align: right;\">\n",
       "      <th></th>\n",
       "      <th>first</th>\n",
       "      <th>this</th>\n",
       "      <th>that</th>\n",
       "      <th>last</th>\n",
       "    </tr>\n",
       "  </thead>\n",
       "  <tbody>\n",
       "    <tr>\n",
       "      <th>row_1</th>\n",
       "      <td>0</td>\n",
       "      <td>1</td>\n",
       "      <td>2</td>\n",
       "      <td>3</td>\n",
       "    </tr>\n",
       "    <tr>\n",
       "      <th>row_2</th>\n",
       "      <td>4</td>\n",
       "      <td>5</td>\n",
       "      <td>6</td>\n",
       "      <td>7</td>\n",
       "    </tr>\n",
       "  </tbody>\n",
       "</table>\n",
       "</div>"
      ],
      "text/plain": [
       "       first  this  that  last\n",
       "row_1      0     1     2     3\n",
       "row_2      4     5     6     7"
      ]
     },
     "execution_count": 33,
     "metadata": {},
     "output_type": "execute_result"
    }
   ],
   "source": [
    "df2 = pd.DataFrame(\n",
    "    my_array,\n",
    "    columns=['first', 'this', 'that', 'last'],\n",
    "    index=['row_1', 'row_2'])\n",
    "df2"
   ]
  },
  {
   "cell_type": "markdown",
   "metadata": {
    "slideshow": {
     "slide_type": "slide"
    }
   },
   "source": [
    "Hangi yöntemi kullanırsanız kullanın, artık etiketli satır ve sütunlara sahip bir veri çerçevemiz var. Bu veri çerçeveleriyle çalışmak için yararlı olacaktır, çünkü bu elemanları kolayca kontrol edilebilir ve kodunuzu daha doğal ve okunması daha basit hale getirir.\n",
    "\n",
    "Not: Muhtemelen iki yanında boşluk olan ” = “i atama için, “==”i ise karşılaştırma için kullanıyorsunuz. Python'da, okunabilirliği geliştirmek ve anahtar kelime argumanları değişken atamalarından ayırt etmeyi kolaylaştırmak için “=”in iki yanında boşluk kullanılmaması alışkanlığı yerleşmiştir.\n",
    "\n",
    "#### Daha Fazla Veri Ekleme\n",
    "\n",
    "Veri çerçevelerinin gerçekten ne yapabileceğini göstermek için biraz fazlasını yapmamız gerekir. Listeler aracılığıyla adlandırılmış sütunlara sahip bir veri çerçevesini bir araya getirelim. pd.DataFrame () fonksiyonunu çağırarak ve satır isimleri olarak kullanmak istediğiniz  indeksleri geçirerek boş bir veri çerçevesi oluşturabilirsiniz. Ardından df ['COLUMN_NAME'] = [LIST_OF_VALUES] kullanarak sütun ekleyin. Örnek:\n"
   ]
  },
  {
   "cell_type": "code",
   "execution_count": 2,
   "metadata": {
    "slideshow": {
     "slide_type": "slide"
    }
   },
   "outputs": [
    {
     "data": {
      "text/html": [
       "<div>\n",
       "<style scoped>\n",
       "    .dataframe tbody tr th:only-of-type {\n",
       "        vertical-align: middle;\n",
       "    }\n",
       "\n",
       "    .dataframe tbody tr th {\n",
       "        vertical-align: top;\n",
       "    }\n",
       "\n",
       "    .dataframe thead th {\n",
       "        text-align: right;\n",
       "    }\n",
       "</style>\n",
       "<table border=\"1\" class=\"dataframe\">\n",
       "  <thead>\n",
       "    <tr style=\"text-align: right;\">\n",
       "      <th></th>\n",
       "      <th>country</th>\n",
       "      <th>ad_views</th>\n",
       "      <th>items_purchased</th>\n",
       "    </tr>\n",
       "  </thead>\n",
       "  <tbody>\n",
       "    <tr>\n",
       "      <th>Ahmet</th>\n",
       "      <td>US</td>\n",
       "      <td>16</td>\n",
       "      <td>2</td>\n",
       "    </tr>\n",
       "    <tr>\n",
       "      <th>Ayşe</th>\n",
       "      <td>CAN</td>\n",
       "      <td>42</td>\n",
       "      <td>1</td>\n",
       "    </tr>\n",
       "    <tr>\n",
       "      <th>Hagi</th>\n",
       "      <td>CAN</td>\n",
       "      <td>32</td>\n",
       "      <td>0</td>\n",
       "    </tr>\n",
       "    <tr>\n",
       "      <th>Alex</th>\n",
       "      <td>US</td>\n",
       "      <td>13</td>\n",
       "      <td>8</td>\n",
       "    </tr>\n",
       "    <tr>\n",
       "      <th>Gomis</th>\n",
       "      <td>CAN</td>\n",
       "      <td>63</td>\n",
       "      <td>0</td>\n",
       "    </tr>\n",
       "    <tr>\n",
       "      <th>Hüseyin</th>\n",
       "      <td>US</td>\n",
       "      <td>19</td>\n",
       "      <td>5</td>\n",
       "    </tr>\n",
       "    <tr>\n",
       "      <th>İpek</th>\n",
       "      <td>US</td>\n",
       "      <td>65</td>\n",
       "      <td>7</td>\n",
       "    </tr>\n",
       "    <tr>\n",
       "      <th>Duru</th>\n",
       "      <td>US</td>\n",
       "      <td>23</td>\n",
       "      <td>3</td>\n",
       "    </tr>\n",
       "    <tr>\n",
       "      <th>Einstein</th>\n",
       "      <td>CAN</td>\n",
       "      <td>16</td>\n",
       "      <td>0</td>\n",
       "    </tr>\n",
       "    <tr>\n",
       "      <th>Franklin</th>\n",
       "      <td>US</td>\n",
       "      <td>77</td>\n",
       "      <td>5</td>\n",
       "    </tr>\n",
       "  </tbody>\n",
       "</table>\n",
       "</div>"
      ],
      "text/plain": [
       "         country  ad_views  items_purchased\n",
       "Ahmet         US        16                2\n",
       "Ayşe         CAN        42                1\n",
       "Hagi         CAN        32                0\n",
       "Alex          US        13                8\n",
       "Gomis        CAN        63                0\n",
       "Hüseyin       US        19                5\n",
       "İpek          US        65                7\n",
       "Duru          US        23                3\n",
       "Einstein     CAN        16                0\n",
       "Franklin      US        77                5"
      ]
     },
     "execution_count": 2,
     "metadata": {},
     "output_type": "execute_result"
    }
   ],
   "source": [
    "# This list will become our row names.\n",
    "names = ['Ahmet',\n",
    "         'Ayşe',\n",
    "         'Hagi',\n",
    "         'Alex',\n",
    "         'Gomis',\n",
    "         'Hüseyin',\n",
    "         'İpek',\n",
    "         'Duru',\n",
    "         'Einstein',\n",
    "         'Franklin']\n",
    "\n",
    "# Create an empty data frame with named rows.\n",
    "purchases = pd.DataFrame(index=names)\n",
    "\n",
    "# Add our columns to the data frame one at a time.\n",
    "purchases['country'] = ['US', 'CAN', 'CAN', 'US', 'CAN', 'US', 'US', 'US', 'CAN', 'US']\n",
    "purchases['ad_views'] = [16, 42, 32, 13, 63, 19, 65, 23, 16, 77]\n",
    "purchases['items_purchased'] = [2, 1, 0, 8, 0, 5, 7, 3, 0, 5]\n",
    "purchases "
   ]
  },
  {
   "cell_type": "code",
   "execution_count": 6,
   "metadata": {},
   "outputs": [
    {
     "name": "stdout",
     "output_type": "stream",
     "text": [
      "Ahmet        US\n",
      "Ayşe        CAN\n",
      "Hagi        CAN\n",
      "Alex         US\n",
      "Gomis       CAN\n",
      "Hüseyin      US\n",
      "İpek         US\n",
      "Duru         US\n",
      "Einstein    CAN\n",
      "Franklin     US\n",
      "Name: country, dtype: object\n"
     ]
    }
   ],
   "source": [
    "print(purchases[\"country\"])"
   ]
  },
  {
   "cell_type": "markdown",
   "metadata": {
    "slideshow": {
     "slide_type": "slide"
    }
   },
   "source": [
    "Bunun belirli bir yılda bir e-ticaret web sitesinin birkaç kullanıcısı için satın alma ve tarama geçmişi olduğunu varsayalım. Sayfa görüntüleme sayısı, sitede yükledikleri sayfa sayısı ve satın almalar (purchases) da o yıl satın aldıkları ürün sayısıdır.\n",
    "\n",
    "Şimdi bir şeyler yapabileceğimiz bir veri çerçevemiz var. İlk olarak bir sütunu nokta notasyonu veya braket (köşeli parantez) notasyonu kullanan bir dizi olarak çağırabileceğinize dikkat edin: df.column_name veya df ['column_name'] her ikisi de çalışıyor. Bu nedenle purchases['Name'], e-ticaret sitesini hem ziyaret eden hem de satın alan kullanıcıların adlarını döndürür. Braket notasyonu genellikle tercih edilir ve burada braket notasyonunu kullanacağız.\n",
    "\n",
    "Pandalar ayrıca önceki verilerimizden yeni bir sütun oluşturmayı da çok kolaylaştırıyor. Diyelim ki\n",
    "sayfa görüntüleme başına satın alınan öğelerin ortalaması için bir sütun oluşturmak ve sütunu items_purch_per_view olarak adlandırmak istiyoruz. Bunu tek satırlık kod olarak yapabiliriz:"
   ]
  },
  {
   "cell_type": "code",
   "execution_count": 9,
   "metadata": {
    "scrolled": true,
    "slideshow": {
     "slide_type": "slide"
    }
   },
   "outputs": [
    {
     "data": {
      "text/html": [
       "<div>\n",
       "<style scoped>\n",
       "    .dataframe tbody tr th:only-of-type {\n",
       "        vertical-align: middle;\n",
       "    }\n",
       "\n",
       "    .dataframe tbody tr th {\n",
       "        vertical-align: top;\n",
       "    }\n",
       "\n",
       "    .dataframe thead th {\n",
       "        text-align: right;\n",
       "    }\n",
       "</style>\n",
       "<table border=\"1\" class=\"dataframe\">\n",
       "  <thead>\n",
       "    <tr style=\"text-align: right;\">\n",
       "      <th></th>\n",
       "      <th>country</th>\n",
       "      <th>ad_views</th>\n",
       "      <th>items_purchased</th>\n",
       "      <th>items_purch_per_ad</th>\n",
       "    </tr>\n",
       "  </thead>\n",
       "  <tbody>\n",
       "    <tr>\n",
       "      <th>Ahmet</th>\n",
       "      <td>US</td>\n",
       "      <td>16</td>\n",
       "      <td>2</td>\n",
       "      <td>0.125000</td>\n",
       "    </tr>\n",
       "    <tr>\n",
       "      <th>Ayşe</th>\n",
       "      <td>CAN</td>\n",
       "      <td>42</td>\n",
       "      <td>1</td>\n",
       "      <td>0.023810</td>\n",
       "    </tr>\n",
       "    <tr>\n",
       "      <th>Hagi</th>\n",
       "      <td>CAN</td>\n",
       "      <td>32</td>\n",
       "      <td>0</td>\n",
       "      <td>0.000000</td>\n",
       "    </tr>\n",
       "    <tr>\n",
       "      <th>Alex</th>\n",
       "      <td>US</td>\n",
       "      <td>13</td>\n",
       "      <td>8</td>\n",
       "      <td>0.615385</td>\n",
       "    </tr>\n",
       "    <tr>\n",
       "      <th>Gomis</th>\n",
       "      <td>CAN</td>\n",
       "      <td>63</td>\n",
       "      <td>0</td>\n",
       "      <td>0.000000</td>\n",
       "    </tr>\n",
       "    <tr>\n",
       "      <th>Hüseyin</th>\n",
       "      <td>US</td>\n",
       "      <td>19</td>\n",
       "      <td>5</td>\n",
       "      <td>0.263158</td>\n",
       "    </tr>\n",
       "    <tr>\n",
       "      <th>İpek</th>\n",
       "      <td>US</td>\n",
       "      <td>65</td>\n",
       "      <td>7</td>\n",
       "      <td>0.107692</td>\n",
       "    </tr>\n",
       "    <tr>\n",
       "      <th>Duru</th>\n",
       "      <td>US</td>\n",
       "      <td>23</td>\n",
       "      <td>3</td>\n",
       "      <td>0.130435</td>\n",
       "    </tr>\n",
       "    <tr>\n",
       "      <th>Einstein</th>\n",
       "      <td>CAN</td>\n",
       "      <td>16</td>\n",
       "      <td>0</td>\n",
       "      <td>0.000000</td>\n",
       "    </tr>\n",
       "    <tr>\n",
       "      <th>Franklin</th>\n",
       "      <td>US</td>\n",
       "      <td>77</td>\n",
       "      <td>5</td>\n",
       "      <td>0.064935</td>\n",
       "    </tr>\n",
       "  </tbody>\n",
       "</table>\n",
       "</div>"
      ],
      "text/plain": [
       "         country  ad_views  items_purchased  items_purch_per_ad\n",
       "Ahmet         US        16                2            0.125000\n",
       "Ayşe         CAN        42                1            0.023810\n",
       "Hagi         CAN        32                0            0.000000\n",
       "Alex          US        13                8            0.615385\n",
       "Gomis        CAN        63                0            0.000000\n",
       "Hüseyin       US        19                5            0.263158\n",
       "İpek          US        65                7            0.107692\n",
       "Duru          US        23                3            0.130435\n",
       "Einstein     CAN        16                0            0.000000\n",
       "Franklin      US        77                5            0.064935"
      ]
     },
     "execution_count": 9,
     "metadata": {},
     "output_type": "execute_result"
    }
   ],
   "source": [
    "purchases['items_purch_per_ad'] = purchases['items_purchased'] / purchases['ad_views']\n",
    "purchases"
   ]
  },
  {
   "cell_type": "code",
   "execution_count": 19,
   "metadata": {},
   "outputs": [
    {
     "data": {
      "text/html": [
       "<div>\n",
       "<style scoped>\n",
       "    .dataframe tbody tr th:only-of-type {\n",
       "        vertical-align: middle;\n",
       "    }\n",
       "\n",
       "    .dataframe tbody tr th {\n",
       "        vertical-align: top;\n",
       "    }\n",
       "\n",
       "    .dataframe thead th {\n",
       "        text-align: right;\n",
       "    }\n",
       "</style>\n",
       "<table border=\"1\" class=\"dataframe\">\n",
       "  <thead>\n",
       "    <tr style=\"text-align: right;\">\n",
       "      <th></th>\n",
       "      <th>ad_views</th>\n",
       "      <th>items_purchased</th>\n",
       "      <th>items_purch_per_ad</th>\n",
       "    </tr>\n",
       "    <tr>\n",
       "      <th>country</th>\n",
       "      <th></th>\n",
       "      <th></th>\n",
       "      <th></th>\n",
       "    </tr>\n",
       "  </thead>\n",
       "  <tbody>\n",
       "    <tr>\n",
       "      <th>CAN</th>\n",
       "      <td>153</td>\n",
       "      <td>1</td>\n",
       "      <td>0.023810</td>\n",
       "    </tr>\n",
       "    <tr>\n",
       "      <th>US</th>\n",
       "      <td>213</td>\n",
       "      <td>30</td>\n",
       "      <td>1.306605</td>\n",
       "    </tr>\n",
       "  </tbody>\n",
       "</table>\n",
       "</div>"
      ],
      "text/plain": [
       "         ad_views  items_purchased  items_purch_per_ad\n",
       "country                                               \n",
       "CAN           153                1            0.023810\n",
       "US            213               30            1.306605"
      ]
     },
     "execution_count": 19,
     "metadata": {},
     "output_type": "execute_result"
    }
   ],
   "source": [
    "purchases.groupby(\"country\").sum()"
   ]
  },
  {
   "cell_type": "markdown",
   "metadata": {
    "slideshow": {
     "slide_type": "slide"
    }
   },
   "source": [
    "Yalnızca bu değerleri görmek istiyorsak ve bunları veri çerçevemizde yeni bir sütun olarak saklamak zorunda değilsek, bu işlevi yalnızca purchases['items_purch_per_ad']’e atamadan çalıştırabiliriz. Her kullanıcı için görüntülenme başına satın alma değerlerini döndürecektir.\n"
   ]
  },
  {
   "cell_type": "code",
   "execution_count": 36,
   "metadata": {
    "slideshow": {
     "slide_type": "slide"
    }
   },
   "outputs": [
    {
     "data": {
      "text/plain": [
       "Ahmet       0.125000\n",
       "Ayşe        0.023810\n",
       "Hagi        0.000000\n",
       "Alex        0.615385\n",
       "Gomis       0.000000\n",
       "Hüseyin     0.263158\n",
       "İpek        0.107692\n",
       "Duru        0.130435\n",
       "Einstein    0.000000\n",
       "Franklin    0.064935\n",
       "dtype: float64"
      ]
     },
     "execution_count": 36,
     "metadata": {},
     "output_type": "execute_result"
    }
   ],
   "source": [
    "purchases['items_purchased'] / purchases['ad_views']"
   ]
  },
  {
   "cell_type": "markdown",
   "metadata": {
    "slideshow": {
     "slide_type": "slide"
    }
   },
   "source": [
    "Bir veri çerçevesi kendi içinde harikadır. Gösterdiğimiz gibi, açıkça etiketli satır ve indeksli verileri  kolayca depolamanıza olanak tanır. Ancak, bazen sadece bu verilerin bir alt kümesiyle çalışmak istersiniz. Bunun için verileri seçmek ya da gruplamak isteyeceksiniz.\n",
    "\n",
    "Aslında, en temel indeksleme formunu veya sütun isimlerinin braketli parantezli  \"seçim/selection\"ini zaten anlattık. Satın alma verilerimizde daha önce yaptığımız şeyi hatırlayın:\n"
   ]
  },
  {
   "cell_type": "code",
   "execution_count": 37,
   "metadata": {
    "slideshow": {
     "slide_type": "slide"
    }
   },
   "outputs": [
    {
     "data": {
      "text/plain": [
       "Ahmet        US\n",
       "Ayşe        CAN\n",
       "Hagi        CAN\n",
       "Alex         US\n",
       "Gomis       CAN\n",
       "Hüseyin      US\n",
       "İpek         US\n",
       "Duru         US\n",
       "Einstein    CAN\n",
       "Franklin     US\n",
       "Name: country, dtype: object"
      ]
     },
     "execution_count": 37,
     "metadata": {},
     "output_type": "execute_result"
    }
   ],
   "source": [
    "purchases['country']"
   ]
  },
  {
   "cell_type": "markdown",
   "metadata": {
    "slideshow": {
     "slide_type": "slide"
    }
   },
   "source": [
    "Bu verileri \"country\" adlı sütundan döndürür. Ancak, daha sofistike bir seçim için Pandas veri çerçeve indeksleme yöntemlerini kullanmamız gerekecek.\n",
    "\n",
    "## .loc ve .iloc ile Temel Seçimler / Basic Selects with .loc and .iloc\n",
    "\n",
    "\n",
    "[`.loc`](http://pandas.pydata.org/pandas-docs/stable/generated/pandas.DataFrame.loc.html) satır ve sütunları indeksleyen bir seçicidir. İlk önce satır dizinini seçer, sonra sütun adı (varsa) seçer.  [`.iloc`](http://pandas.pydata.org/pandas-docs/stable/generated/pandas.DataFrame.iloc.html) aynı şeyi indeksler üzerinde yapar. Örneğin, purchases veri çerçevesinde 'George' satırını seçmek için, sadece 'Hagi' stringini braket notasyonu ile purchases.loc’a geçiririz: "
   ]
  },
  {
   "cell_type": "code",
   "execution_count": 38,
   "metadata": {
    "slideshow": {
     "slide_type": "slide"
    }
   },
   "outputs": [
    {
     "data": {
      "text/plain": [
       "country               CAN\n",
       "ad_views               32\n",
       "items_purchased         0\n",
       "items_purch_per_ad      0\n",
       "Name: Hagi, dtype: object"
      ]
     },
     "execution_count": 38,
     "metadata": {},
     "output_type": "execute_result"
    }
   ],
   "source": [
    "purchases.loc['Hagi']"
   ]
  },
  {
   "cell_type": "markdown",
   "metadata": {
    "slideshow": {
     "slide_type": "slide"
    }
   },
   "source": [
    "To select the column 'country' we would use:"
   ]
  },
  {
   "cell_type": "code",
   "execution_count": 39,
   "metadata": {
    "slideshow": {
     "slide_type": "slide"
    }
   },
   "outputs": [
    {
     "data": {
      "text/plain": [
       "Ahmet        US\n",
       "Ayşe        CAN\n",
       "Hagi        CAN\n",
       "Alex         US\n",
       "Gomis       CAN\n",
       "Hüseyin      US\n",
       "İpek         US\n",
       "Duru         US\n",
       "Einstein    CAN\n",
       "Franklin     US\n",
       "Name: country, dtype: object"
      ]
     },
     "execution_count": 39,
     "metadata": {},
     "output_type": "execute_result"
    }
   ],
   "source": [
    "purchases.loc[:, 'country']"
   ]
  },
  {
   "cell_type": "markdown",
   "metadata": {
    "slideshow": {
     "slide_type": "slide"
    }
   },
   "source": [
    "Yukarıdaki ':', bir liste veya dizgeyi dilimlerkenki gibi çalışır ve veri çerçevesinin başından sonuna kadar tüm satırları seçer. Son olarak Hagi’nin ülkesini seçmek için, ikisini şu şekilde birleştirdik:\n"
   ]
  },
  {
   "cell_type": "code",
   "execution_count": 40,
   "metadata": {
    "slideshow": {
     "slide_type": "slide"
    }
   },
   "outputs": [
    {
     "data": {
      "text/plain": [
       "'CAN'"
      ]
     },
     "execution_count": 40,
     "metadata": {},
     "output_type": "execute_result"
    }
   ],
   "source": [
    "purchases.loc['Hagi', 'country']"
   ]
  },
  {
   "cell_type": "markdown",
   "metadata": {
    "slideshow": {
     "slide_type": "slide"
    }
   },
   "source": [
    "Yukarıda belirttiğimiz gibi, listelerde olduğu gibi, satırda ve sütunda .iloc kullanarak tamsayı indeksleme yapabilirsiniz. Örneğin:\n"
   ]
  },
  {
   "cell_type": "code",
   "execution_count": 41,
   "metadata": {
    "slideshow": {
     "slide_type": "slide"
    }
   },
   "outputs": [
    {
     "data": {
      "text/plain": [
       "Ayşe    42\n",
       "Hagi    32\n",
       "Name: ad_views, dtype: int64"
      ]
     },
     "execution_count": 41,
     "metadata": {},
     "output_type": "execute_result"
    }
   ],
   "source": [
    "purchases.iloc[1:3, 1]"
   ]
  },
  {
   "cell_type": "markdown",
   "metadata": {
    "slideshow": {
     "slide_type": "slide"
    }
   },
   "source": [
    "Yukarıdaki dilimleme sözdizimini tekrar kullandık, bu sefer ikinci satır ile başlayıp dördüncü satıra kadar,ama bu satır dahil değil, ve sonra ikinci sütunu (indeks sütun olarak sayılmadan) yaptığımıza dikkat edin.\n",
    "\n",
    "## Koşullu Seçim / Conditional Selection\n",
    "\n",
    "Koşullu seçim için .loc veya belirli bir kriteri sağlayan tüm girdileri seçerek de kullanabilirsiniz. Bu runtime’da çalışan isimsiz fonksiyonlar tanımlamak için izin veren bir yapı olan __lambda__ yı kullanacaktır. Satır veya sütun üzerinde bir koşul oluşturmak için lambda işlevini kullanırız.\n",
    "\n",
    "<div class=\"note\">`Not`: Aşağıda <code>lambda</code> söz dizimine giriş yapacağız, ancak bu derste fazla kullanmayacağız ve derinlemesine devam etmeyeceğiz. Eğer anonim fonksiyonlar oluşturmak için <code>lambda</code> kullanma hakkında daha fazla şey öğrenmek istiyorsanız <code>lambda</code> hakkındaki Python <a href=\"https://docs.python.org/3.6/tutorial/controlflow.html#lambda-expressions\"> dökümantasyonuna</a>, ya da buradaki <a href=\"https://pythonconquerstheuniverse.wordpress.com/2011/08/29/lambda_tutorial/\"> daha detaylı</a> öğretici dokümana bakabilirsiniz.</div>\n",
    "\n",
    "Bir kez daha satın alma veri çerçevesine dönelim. Örneğimiz için diyelim ki birden fazla alım yapan bireyler için tüm sütunları istiyoruz.  Bu göreceli olarak basit bir kod satırı ile yapılır.\n"
   ]
  },
  {
   "cell_type": "code",
   "execution_count": 42,
   "metadata": {
    "slideshow": {
     "slide_type": "slide"
    }
   },
   "outputs": [
    {
     "data": {
      "text/html": [
       "<div>\n",
       "<style scoped>\n",
       "    .dataframe tbody tr th:only-of-type {\n",
       "        vertical-align: middle;\n",
       "    }\n",
       "\n",
       "    .dataframe tbody tr th {\n",
       "        vertical-align: top;\n",
       "    }\n",
       "\n",
       "    .dataframe thead th {\n",
       "        text-align: right;\n",
       "    }\n",
       "</style>\n",
       "<table border=\"1\" class=\"dataframe\">\n",
       "  <thead>\n",
       "    <tr style=\"text-align: right;\">\n",
       "      <th></th>\n",
       "      <th>country</th>\n",
       "      <th>ad_views</th>\n",
       "      <th>items_purchased</th>\n",
       "      <th>items_purch_per_ad</th>\n",
       "    </tr>\n",
       "  </thead>\n",
       "  <tbody>\n",
       "    <tr>\n",
       "      <th>Ahmet</th>\n",
       "      <td>US</td>\n",
       "      <td>16</td>\n",
       "      <td>2</td>\n",
       "      <td>0.125000</td>\n",
       "    </tr>\n",
       "    <tr>\n",
       "      <th>Alex</th>\n",
       "      <td>US</td>\n",
       "      <td>13</td>\n",
       "      <td>8</td>\n",
       "      <td>0.615385</td>\n",
       "    </tr>\n",
       "    <tr>\n",
       "      <th>Hüseyin</th>\n",
       "      <td>US</td>\n",
       "      <td>19</td>\n",
       "      <td>5</td>\n",
       "      <td>0.263158</td>\n",
       "    </tr>\n",
       "    <tr>\n",
       "      <th>İpek</th>\n",
       "      <td>US</td>\n",
       "      <td>65</td>\n",
       "      <td>7</td>\n",
       "      <td>0.107692</td>\n",
       "    </tr>\n",
       "    <tr>\n",
       "      <th>Duru</th>\n",
       "      <td>US</td>\n",
       "      <td>23</td>\n",
       "      <td>3</td>\n",
       "      <td>0.130435</td>\n",
       "    </tr>\n",
       "    <tr>\n",
       "      <th>Franklin</th>\n",
       "      <td>US</td>\n",
       "      <td>77</td>\n",
       "      <td>5</td>\n",
       "      <td>0.064935</td>\n",
       "    </tr>\n",
       "  </tbody>\n",
       "</table>\n",
       "</div>"
      ],
      "text/plain": [
       "         country  ad_views  items_purchased  items_purch_per_ad\n",
       "Ahmet         US        16                2            0.125000\n",
       "Alex          US        13                8            0.615385\n",
       "Hüseyin       US        19                5            0.263158\n",
       "İpek          US        65                7            0.107692\n",
       "Duru          US        23                3            0.130435\n",
       "Franklin      US        77                5            0.064935"
      ]
     },
     "execution_count": 42,
     "metadata": {},
     "output_type": "execute_result"
    }
   ],
   "source": [
    "purchases.loc[lambda df: purchases['items_purchased'] > 1, :]"
   ]
  },
  {
   "cell_type": "markdown",
   "metadata": {
    "slideshow": {
     "slide_type": "slide"
    }
   },
   "source": [
    "Satırları seçiyoruz, böylece lambda braketler içindeki ilk maddedir. Girişi df olarak tanımlarız çünkü o bir veri çerçevesi alır. Sonra her bir satırın değerlendirileceği koşulu tanımlarız. “,”  dilimleme sözdiziminin aynısıdır ve yukarıdaki gibi aynı mantığı kullanan tüm sütunları istediğimiz anlamına gelir. Boolean mantığını kullanarak bunu yapmanın daha basit bir yolu vardır ve ayrıca oldukça yaygındır.\n"
   ]
  },
  {
   "cell_type": "code",
   "execution_count": 43,
   "metadata": {
    "slideshow": {
     "slide_type": "slide"
    }
   },
   "outputs": [
    {
     "data": {
      "text/html": [
       "<div>\n",
       "<style scoped>\n",
       "    .dataframe tbody tr th:only-of-type {\n",
       "        vertical-align: middle;\n",
       "    }\n",
       "\n",
       "    .dataframe tbody tr th {\n",
       "        vertical-align: top;\n",
       "    }\n",
       "\n",
       "    .dataframe thead th {\n",
       "        text-align: right;\n",
       "    }\n",
       "</style>\n",
       "<table border=\"1\" class=\"dataframe\">\n",
       "  <thead>\n",
       "    <tr style=\"text-align: right;\">\n",
       "      <th></th>\n",
       "      <th>country</th>\n",
       "      <th>ad_views</th>\n",
       "      <th>items_purchased</th>\n",
       "      <th>items_purch_per_ad</th>\n",
       "    </tr>\n",
       "  </thead>\n",
       "  <tbody>\n",
       "    <tr>\n",
       "      <th>Ahmet</th>\n",
       "      <td>US</td>\n",
       "      <td>16</td>\n",
       "      <td>2</td>\n",
       "      <td>0.125000</td>\n",
       "    </tr>\n",
       "    <tr>\n",
       "      <th>Alex</th>\n",
       "      <td>US</td>\n",
       "      <td>13</td>\n",
       "      <td>8</td>\n",
       "      <td>0.615385</td>\n",
       "    </tr>\n",
       "    <tr>\n",
       "      <th>Hüseyin</th>\n",
       "      <td>US</td>\n",
       "      <td>19</td>\n",
       "      <td>5</td>\n",
       "      <td>0.263158</td>\n",
       "    </tr>\n",
       "    <tr>\n",
       "      <th>İpek</th>\n",
       "      <td>US</td>\n",
       "      <td>65</td>\n",
       "      <td>7</td>\n",
       "      <td>0.107692</td>\n",
       "    </tr>\n",
       "    <tr>\n",
       "      <th>Duru</th>\n",
       "      <td>US</td>\n",
       "      <td>23</td>\n",
       "      <td>3</td>\n",
       "      <td>0.130435</td>\n",
       "    </tr>\n",
       "    <tr>\n",
       "      <th>Franklin</th>\n",
       "      <td>US</td>\n",
       "      <td>77</td>\n",
       "      <td>5</td>\n",
       "      <td>0.064935</td>\n",
       "    </tr>\n",
       "  </tbody>\n",
       "</table>\n",
       "</div>"
      ],
      "text/plain": [
       "         country  ad_views  items_purchased  items_purch_per_ad\n",
       "Ahmet         US        16                2            0.125000\n",
       "Alex          US        13                8            0.615385\n",
       "Hüseyin       US        19                5            0.263158\n",
       "İpek          US        65                7            0.107692\n",
       "Duru          US        23                3            0.130435\n",
       "Franklin      US        77                5            0.064935"
      ]
     },
     "execution_count": 43,
     "metadata": {},
     "output_type": "execute_result"
    }
   ],
   "source": [
    "purchases[purchases['items_purchased'] > 1]"
   ]
  },
  {
   "cell_type": "markdown",
   "metadata": {
    "slideshow": {
     "slide_type": "slide"
    }
   },
   "source": [
    "Bu benzer bir mantıktır, ancak açık indeksleme eksikliği onu biraz daha az sağlam kılar. Açık indeksleme kullanarak .loc ile yapılan ilk örnek daha sağlamdır, ancak [boolean indeksleme](http://pandas.pydata.org/pandas-docs/stable/indexing.html#boolean-indexing) ile yapılan ikinci örnek daha yaygındır ve kolayca okunabilir. Seçiminizi akıllıca yapın.\n",
    "\n",
    "## Groups\n",
    "\n",
    "Burada tanıtacağımız için son bir şey var, gruplandırma(grouping) ve toplama(aggregation). [`.groupby()`](http://pandas.pydata.org/pandas-docs/stable/generated/pandas.DataFrame.groupby.html) metodunu kullanarak ve sütun adında ileterek veri çerçevenizdeki grupları oluşturabilirsiniz. Haydi deneyin.\n",
    "\n",
    "Site kullanıcısının ülkesi olarak gruplandırılmak istersek, tek yapmamız gereken:\n"
   ]
  },
  {
   "cell_type": "code",
   "execution_count": 44,
   "metadata": {
    "slideshow": {
     "slide_type": "slide"
    }
   },
   "outputs": [
    {
     "data": {
      "text/plain": [
       "<pandas.core.groupby.DataFrameGroupBy object at 0x7fd3a6deed30>"
      ]
     },
     "execution_count": 44,
     "metadata": {},
     "output_type": "execute_result"
    }
   ],
   "source": [
    "purchases.groupby('country')"
   ]
  },
  {
   "cell_type": "markdown",
   "metadata": {
    "slideshow": {
     "slide_type": "slide"
    }
   },
   "source": [
    "Ama bakın, bu satırı çalıştırdığınızda, artık verilerinizi döndürmez. Gruplandırılmış bir nesneyi referanslayan bir satır döndürür, ancak nesneyi değil. Çünkü bir şey döndürmek istiyorsak, o gruplarda bir şeyler yapmamız gerekiyor. Burada kullanabileceğiniz çeşitli yöntemler var. Bazıları .sum () veya .count () gibi yerleşiktir(built in). Daha da büyük olasılıklar için .aggregate (numpy_function) kullanabilirsiniz. Hangi grubun daha fazla sayfa görüntüleme ve satın alma işlemi olduğunu öğrenmek için bunu kullanalım.\n"
   ]
  },
  {
   "cell_type": "code",
   "execution_count": 45,
   "metadata": {
    "slideshow": {
     "slide_type": "slide"
    }
   },
   "outputs": [
    {
     "data": {
      "text/html": [
       "<div>\n",
       "<style scoped>\n",
       "    .dataframe tbody tr th:only-of-type {\n",
       "        vertical-align: middle;\n",
       "    }\n",
       "\n",
       "    .dataframe tbody tr th {\n",
       "        vertical-align: top;\n",
       "    }\n",
       "\n",
       "    .dataframe thead th {\n",
       "        text-align: right;\n",
       "    }\n",
       "</style>\n",
       "<table border=\"1\" class=\"dataframe\">\n",
       "  <thead>\n",
       "    <tr style=\"text-align: right;\">\n",
       "      <th></th>\n",
       "      <th>ad_views</th>\n",
       "      <th>items_purchased</th>\n",
       "      <th>items_purch_per_ad</th>\n",
       "    </tr>\n",
       "    <tr>\n",
       "      <th>country</th>\n",
       "      <th></th>\n",
       "      <th></th>\n",
       "      <th></th>\n",
       "    </tr>\n",
       "  </thead>\n",
       "  <tbody>\n",
       "    <tr>\n",
       "      <th>CAN</th>\n",
       "      <td>38.25</td>\n",
       "      <td>0.25</td>\n",
       "      <td>0.005952</td>\n",
       "    </tr>\n",
       "    <tr>\n",
       "      <th>US</th>\n",
       "      <td>35.50</td>\n",
       "      <td>5.00</td>\n",
       "      <td>0.217767</td>\n",
       "    </tr>\n",
       "  </tbody>\n",
       "</table>\n",
       "</div>"
      ],
      "text/plain": [
       "         ad_views  items_purchased  items_purch_per_ad\n",
       "country                                               \n",
       "CAN         38.25             0.25            0.005952\n",
       "US          35.50             5.00            0.217767"
      ]
     },
     "execution_count": 45,
     "metadata": {},
     "output_type": "execute_result"
    }
   ],
   "source": [
    "purchases.groupby('country').mean()\n",
    "# Don't want to take the mean of all columns? Try this:\n",
    "# purchases.groupby('country')['column_name'].mean()"
   ]
  },
  {
   "cell_type": "markdown",
   "metadata": {
    "slideshow": {
     "slide_type": "slide"
    }
   },
   "source": [
    "Artık her bir sütunun ortalamasını görebilirsiniz. Kanadalı ziyaretçiler kişi başı daha fazla reklam görüyor ancak çok daha az ürün satın alıyor gibi görünür. Bunlar bir veri çerçevesinin içindeki verilerin seçilmesinin temelleridir. Detaylı bir bakış için pandas dokümanlarında [Dizin Oluşturma ve Veri Seçme / Indexing and Selecting Data](http://pandas.pydata.org/pandas-docs/stable/indexing.html#indexing) ile ilgili kısma bakın. \n"
   ]
  },
  {
   "cell_type": "markdown",
   "metadata": {
    "slideshow": {
     "slide_type": "slide"
    }
   },
   "source": [
    "## Dosyalarla Çalışmak\n",
    "\n",
    "Şimdiye kadarki örneklerde, metinleri elle yazarak Pandas veri çerçevelerini oluşturduk. Bunu yapmak gerçek veri kümeleri ile sıkıcı veya imkansız olacak, böylece neredeyse her zaman Pandas’a verileri dosyalardan (CSV dosyaları gibi), API’ler kullanarak web’den veya veritabanlarından ve diğer büyük veri depolarından yükleyeceksiniz.\n",
    "\n",
    "Bu bölümde, Panda'lara oluşturduğunuz veya indirdiğiniz CSV, JSON ve XML dosyalarını nasıl yükleyeceğinizi göstereceğiz. Ayrıca, vanilla Python'u kullanarak dosyalarla çalışmayı kısaca anlatacağız. Dosyalarınız iyi kodlanmış ve doğru biçimlendirilmişse ve verileriniz temizse, dosya yükleme oldukça basittir. Ama bu her zaman böyle değildir. Hatalı verilerle uğraşmak bir veri bilimcisi olmanın en büyük zorluklarındandır ve her ortama uyan bir çözümü yoktur. Burada kolay durumları gösterecek ve sizi daha fazla okumaya yönelteceğiz.\n"
   ]
  },
  {
   "cell_type": "markdown",
   "metadata": {
    "slideshow": {
     "slide_type": "slide"
    }
   },
   "source": [
    "### Pandas ile dosya açma\n",
    "#### CSV dosyaları\n",
    "\n",
    "CSV(Virgülle Ayrılmış Değerler / Comma Seperated Values) dosyaları, yapılandırılmış yablo verileri için yaygın bir dosya biçimidir. Microsoft Excel, Google Sheets ve Python komut dosyalarından üretimleri kolaydır. Aynı zamanda üzerinde çalışmak da kolaydır: onları herhangi bir metin editöründe açabilir ve okuyabilirsiniz. Eğer bunu yaparsanız CSV'nin yalnızca her sütundaki değerlerin virgülle ayrıldığı ve satırların birbirinden yeni satırlarla ayrıldığı bir metin dosyası olduğunu görürsünüz. Uygun yapılarından ve basitliklerinden dolayı CSV’ler ile çalışmak son derece yaygındır.\n",
    "\n",
    "Burada, önceki bölümlerde gördüğünüz aynı satın alma verilerine sahip örnek bir CSV dosyası kullanıyoruz. Bir CSV'nin Pandalara yüklenmesinin temelleri basittir. Daha önceden kaydettiğiniz purchase.csv dosyasını sadece bu tek satır kod ile yükleyebilirsiniz. \n"
   ]
  },
  {
   "cell_type": "code",
   "execution_count": 20,
   "metadata": {
    "slideshow": {
     "slide_type": "slide"
    }
   },
   "outputs": [
    {
     "name": "stdout",
     "output_type": "stream",
     "text": [
      "         country  ad_views  items_purchased  items_purch_per_ad\n",
      "Ahmet         US        16                2            0.125000\n",
      "Ayşe         CAN        42                1            0.023810\n",
      "Hagi         CAN        32                0            0.000000\n",
      "Alex          US        13                8            0.615385\n",
      "Gomis        CAN        63                0            0.000000\n",
      "Hüseyin       US        19                5            0.263158\n",
      "İpek          US        65                7            0.107692\n",
      "Duru          US        23                3            0.130435\n",
      "Einstein     CAN        16                0            0.000000\n",
      "Franklin      US        77                5            0.064935\n"
     ]
    }
   ],
   "source": [
    "df = pd.read_csv('data/purchases.csv', index_col=0)\n",
    "print(df)"
   ]
  },
  {
   "cell_type": "markdown",
   "metadata": {
    "slideshow": {
     "slide_type": "slide"
    }
   },
   "source": [
    "Pandas read_csv () metodu, okumak istediğiniz dosyanın yolunu temsil eden bir string alır ve bir veri çerçeve nesnesini döndürür. Yukarıdaki örnekte üzerinde çalıştığımız CSV dosyası veri dizini içindedir.\n",
    "\n",
    "Read_csv () için gereken tek argüman dosya yoludur, ancak farklı bağlamlarda kullanışlı olan onlarca opsiyonel anahtar kelime argümanları mevcuttur. Bununla ilgili dokümantasyona bakabilirsiniz.\n",
    "\n",
    "Veri bilimcisi olarak çalışırken, genellikle bir dosyaya veri çıkışı yapmak istersiniz. CSV’ler muhtemelen bunun için en iyisidir. Bir CSV dosyası oluşturmak ve veri çerçevenizi yazmak için ``df.to_csv()`` kullanın:\n",
    "\n",
    "Yukarıdaki .to_csv () öğesine iletilen tek argüman, çıkarmak istediğiniz dosyanın yoludur(path), ancak çıktı dosyanızı değiştirmek için kullanabileceğiniz başka opsiyonel anahtar kelime argümanları da vardır. Sen ayrıca, dosya oluşturmayı atlamak ve yapıştırabileceğiniz veya başka yerlere göndereceğiniz bir string döndürmek için yol argümanını vermeyebilirsiniz."
   ]
  },
  {
   "cell_type": "markdown",
   "metadata": {
    "slideshow": {
     "slide_type": "slide"
    }
   },
   "source": [
    "### JSON\n",
    "\n",
    "CSV dosyaları size güzel ve sağlam bir yapı sunarken, JSON ve XML gibi yaygın formatlar daha özelleştirilebilir ve esnek veri depolamaya olanak tanır. Ham yapılandırılmamış metinden farklı olarak JSON ve XML'in bazı yapı gereksinimleri vardır ve bunlar yarı yapılandırılmış dosyalar olarak bilinir.\n",
    "\n",
    "Yarı yapılandırılmış verilerin bu esnekliği çoğu zaman ek karmaşıklık maliyetine yol açar. JSON verileri derinlemesine yuvalanabilir ve verileri çalışmak istediğiniz forma sokana kadar önemli miktarda işlem yapmanız gerekebilir.\n",
    "\n",
    "JSON, \"JavaScript Nesne Notasyonu / JavaScript Object Notation\" anlamına gelir ve bir JavaScript nesnesini bir string olarak temsil etmenin bir yoludur. JavaScript'teki \"Nesneler\", tam olarak Python sözlükleri(dictionary) gibi anahtar/değer çifti koleksiyonlarıdır. Python sözlükleri hakkında bildiğiniz hemen hemen her şey doğrudan JavaScript nesnelerine çevrilir, böylelikle \"JSON\"’un \"Python Sözlük Notasyonu\" anlamına geldiğini ve JSON'un sanki bir Python sözlüğünün string olarak temsil edilmiş hali gibi davrandığını  hayal edebilirsiniz.\n",
    "\n",
    "CSV dosyaları gibi, JSON dosyaları insan tarafından okunabilir ve sizin de en sevdiğiniz metin editörüyle açıp keşfedebilmeniz gerekir. Bu, yeni JSON ile çalışırken özellikle nasıl yapılandırıldığından emin değilsiniz yararlıdır. Metin editörünüzdeki bilgisayarınızın belleğine sığmayacak kadar büyük olan büyük JSON dosyalarını açmak çok zor olabilir ancak bunun için  şimdilik endişelenmeyeceğiz.\n",
    "\n",
    "read_json () ile bir JSON dosyasından bir veri çerçevesi oluşturabilirsiniz:\n"
   ]
  },
  {
   "cell_type": "code",
   "execution_count": 47,
   "metadata": {
    "slideshow": {
     "slide_type": "slide"
    }
   },
   "outputs": [
    {
     "data": {
      "text/html": [
       "<div>\n",
       "<style scoped>\n",
       "    .dataframe tbody tr th:only-of-type {\n",
       "        vertical-align: middle;\n",
       "    }\n",
       "\n",
       "    .dataframe tbody tr th {\n",
       "        vertical-align: top;\n",
       "    }\n",
       "\n",
       "    .dataframe thead th {\n",
       "        text-align: right;\n",
       "    }\n",
       "</style>\n",
       "<table border=\"1\" class=\"dataframe\">\n",
       "  <thead>\n",
       "    <tr style=\"text-align: right;\">\n",
       "      <th></th>\n",
       "      <th>Unnamed: 0</th>\n",
       "      <th>ad_views</th>\n",
       "      <th>country</th>\n",
       "      <th>items_purch_per_ad</th>\n",
       "      <th>items_purchased</th>\n",
       "    </tr>\n",
       "  </thead>\n",
       "  <tbody>\n",
       "    <tr>\n",
       "      <th>0</th>\n",
       "      <td>Ahmet</td>\n",
       "      <td>16</td>\n",
       "      <td>US</td>\n",
       "      <td>0.125000</td>\n",
       "      <td>2</td>\n",
       "    </tr>\n",
       "    <tr>\n",
       "      <th>1</th>\n",
       "      <td>Ayşe</td>\n",
       "      <td>42</td>\n",
       "      <td>CAN</td>\n",
       "      <td>0.023810</td>\n",
       "      <td>1</td>\n",
       "    </tr>\n",
       "    <tr>\n",
       "      <th>2</th>\n",
       "      <td>Hagi</td>\n",
       "      <td>32</td>\n",
       "      <td>CAN</td>\n",
       "      <td>0.000000</td>\n",
       "      <td>0</td>\n",
       "    </tr>\n",
       "    <tr>\n",
       "      <th>3</th>\n",
       "      <td>Alex</td>\n",
       "      <td>13</td>\n",
       "      <td>US</td>\n",
       "      <td>0.615385</td>\n",
       "      <td>8</td>\n",
       "    </tr>\n",
       "    <tr>\n",
       "      <th>4</th>\n",
       "      <td>Gomis</td>\n",
       "      <td>63</td>\n",
       "      <td>CAN</td>\n",
       "      <td>0.000000</td>\n",
       "      <td>0</td>\n",
       "    </tr>\n",
       "    <tr>\n",
       "      <th>5</th>\n",
       "      <td>Hüseyin</td>\n",
       "      <td>19</td>\n",
       "      <td>US</td>\n",
       "      <td>0.263158</td>\n",
       "      <td>5</td>\n",
       "    </tr>\n",
       "    <tr>\n",
       "      <th>6</th>\n",
       "      <td>İpek</td>\n",
       "      <td>65</td>\n",
       "      <td>US</td>\n",
       "      <td>0.107692</td>\n",
       "      <td>7</td>\n",
       "    </tr>\n",
       "    <tr>\n",
       "      <th>7</th>\n",
       "      <td>Duru</td>\n",
       "      <td>23</td>\n",
       "      <td>US</td>\n",
       "      <td>0.130435</td>\n",
       "      <td>3</td>\n",
       "    </tr>\n",
       "    <tr>\n",
       "      <th>8</th>\n",
       "      <td>Einstein</td>\n",
       "      <td>16</td>\n",
       "      <td>CAN</td>\n",
       "      <td>0.000000</td>\n",
       "      <td>0</td>\n",
       "    </tr>\n",
       "    <tr>\n",
       "      <th>9</th>\n",
       "      <td>Franklin</td>\n",
       "      <td>77</td>\n",
       "      <td>US</td>\n",
       "      <td>0.064935</td>\n",
       "      <td>5</td>\n",
       "    </tr>\n",
       "  </tbody>\n",
       "</table>\n",
       "</div>"
      ],
      "text/plain": [
       "  Unnamed: 0  ad_views country  items_purch_per_ad  items_purchased\n",
       "0      Ahmet        16      US            0.125000                2\n",
       "1       Ayşe        42     CAN            0.023810                1\n",
       "2       Hagi        32     CAN            0.000000                0\n",
       "3       Alex        13      US            0.615385                8\n",
       "4      Gomis        63     CAN            0.000000                0\n",
       "5    Hüseyin        19      US            0.263158                5\n",
       "6       İpek        65      US            0.107692                7\n",
       "7       Duru        23      US            0.130435                3\n",
       "8   Einstein        16     CAN            0.000000                0\n",
       "9   Franklin        77      US            0.064935                5"
      ]
     },
     "execution_count": 47,
     "metadata": {},
     "output_type": "execute_result"
    }
   ],
   "source": [
    "df = pd.read_json('data/purchases.json')\n",
    "df"
   ]
  },
  {
   "cell_type": "markdown",
   "metadata": {
    "slideshow": {
     "slide_type": "slide"
    }
   },
   "source": [
    "Yine, gereken tek argüman dosya yoludur, ancak read_json () fonksiyonunu farklı seçeneklerle çalıştırmak için diğer anahtar kelime argümanlarını iletebilirsiniz. Daha fazla bilgi için dokümanlara ve iç içe(nested) JSON’u normalize etmek için pandas.io.json.json_normalize ()’ye bakabilirsiniz. Veri çerçevelerinizi dosyalara yazmak için genellikle CSV'yi tercih etmelisiniz, ancak .to_json’u bir bir veri çerçevesini JSON dosyası olarak yazmak için ``df.to_json('my_data.json')`` olarak kullanabilirsiniz.\n",
    "\n",
    "Daha yaygın kullanım, JSON verilerini web üzerinden göndermektir. Bunun için daha sonra işleyip göndereceğimiz bir JSON stringi oluşturmak için bir argüman olmadan: to_json () şeklinde kullanırız. \n",
    "``serialized_purchases = df.to_json()``"
   ]
  },
  {
   "cell_type": "markdown",
   "metadata": {
    "slideshow": {
     "slide_type": "slide"
    }
   },
   "source": [
    "### XML\n",
    "\n",
    "JSON gibi XML veya \"eXtensible Markup Language\", hiyerarşik bir yarı yapılandırılmış veri biçimidir. Her ikisi de veriyi web üzerinden aktarmak için yaygın olarak kullanılır, ancak daha yeni JSON formatı bu günlerde eski ve daha basit XML formatına göre daha yaygındır. HTML ile çalışmışsanız etiketlerin açılması veya kapatılması veya \"markup/işaretlenmesi\" gibi XML sözdizimine aşinasınızdır. Pandas, XML için read_csv () ve read_json () öğeleri gibi fonksiyonlara sahip değildir. Bu nedenle, XML dosyalarını okumak ve onları bir öğe ağacına dönüştürmek için Python standart kitaplığından xml modülünü kullanırız. Bir element ağacına sahip olduğumuzda, bunu Pandas’a besleyebileceğimiz bir listeye manuel olarak işleyeceğiz.\n"
   ]
  },
  {
   "cell_type": "code",
   "execution_count": 48,
   "metadata": {
    "slideshow": {
     "slide_type": "slide"
    }
   },
   "outputs": [
    {
     "name": "stdout",
     "output_type": "stream",
     "text": [
      "          0    1   2  3\n",
      "0    George   US  16  2\n",
      "1      John  CAN  42  1\n",
      "2    Thomas  CAN  32  0\n",
      "3     James   US  13  8\n",
      "4    Andrew  CAN  63  0\n",
      "5    Martin   US  19  5\n",
      "6   William   US  65  7\n",
      "7   Zachary   US  23  3\n",
      "8   Millard  CAN  16  0\n",
      "9  Franklin   US  77  5\n"
     ]
    }
   ],
   "source": [
    "import xml.etree.ElementTree as ET\n",
    "\n",
    "# Load and parse the XML file into a tree.\n",
    "tree = ET.parse('data/purchases.xml')\n",
    "\n",
    "# Find the root of the tree. This is the node of the tree where we'll\n",
    "# start our iteration.\n",
    "root = tree.getroot()\n",
    "\n",
    "# Define a custom function to loop over our tree, extract values, and\n",
    "# return a two-dimensional list.\n",
    "def xml_to_list(root):\n",
    "    result = []\n",
    "    for row in root:\n",
    "        row_list = []\n",
    "        for column in row:\n",
    "            row_list.append(column.text)\n",
    "        result.append(row_list)\n",
    "    return result\n",
    "    \n",
    "# Feed our two-dimensional list into Pandas.\n",
    "df = pd.DataFrame(xml_to_list(root))\n",
    "print(df)"
   ]
  },
  {
   "cell_type": "markdown",
   "metadata": {
    "slideshow": {
     "slide_type": "slide"
    }
   },
   "source": [
    "Yukarıdaki özel xml_to_list () fonksiyonu, çalıştığımız belirli XML dosyası için tasarlanmıştır.  Farklı bir şekilde yapılandırılmış XML ile çalışıyorsanız, XML ağacınızın üzerinde farkl bir şekilde yinelemeniz(iterate) gerekir. \n",
    "\n",
    "Burada elementi ağaçlarıyla ve ağaç nesnelerini yinelemek ilgili detaylara girmeyeceğiz. İsterseniz resmi xml.etree.ElementTree dokümanında daha fazla okuyabilirsiniz. Kendinizi XML ile herhangi bir detayda çalışırken bulursan hızlı ve XML ile çalışmak için kullanışlı bir araç koleksiyonu olan \n",
    "lxml paketine göz atmak isteyebilirrsiniz.\n",
    "\n",
    "Bir veri bilimcisi olarak, genellikle size verilen veri dosyalarının biçimini seçemezsiniz, bu yüzden burada XML'i ele alıyoruz. Veri dosyalarını oluştururken muhtemelen XML’den kaçınmanız gerekir\n",
    "çünkü XML işlemek için daha fazla çalışmak gerekebilir. CSV’ler, bir dosyaya veri yazmak için en iyi seçimdir. Yarı yapılandırılmış bir formata ihtiyacınız varsa, XML üzerinden JSON'u tercih edin.\n"
   ]
  },
  {
   "cell_type": "markdown",
   "metadata": {
    "slideshow": {
     "slide_type": "slide"
    }
   },
   "source": [
    "### Python open()\n",
    "\n",
    "Yukarıda ele aldığımız dosya yükleme tekniklerinin her biri, belirli bir türdeki dosyaları (CSV, JSON, XML) açmak ve yüklemek için pakete özgü yollardır. Python, open () işleviyle istediğiniz herhangi bir dosyayı açmak için daha genel amaçlı bir yol sunuyor.\n"
   ]
  },
  {
   "cell_type": "code",
   "execution_count": 49,
   "metadata": {
    "slideshow": {
     "slide_type": "slide"
    }
   },
   "outputs": [
    {
     "name": "stdout",
     "output_type": "stream",
     "text": [
      "This file is 1 lines long\n",
      "{\"Unnamed: 0\":{\"0\":\"Ahmet\",\"1\":\"Ay\\u015fe\",\"2\":\"Hagi\",\"3\":\"Alex\",\"4\":\"Gomis\",\"5\":\"H\\u00fcseyin\",\"6\":\"\\u0130pek\",\"7\":\"Duru\",\"8\":\"Einstein\",\"9\":\"Franklin\"},\"country\":{\"0\":\"US\",\"1\":\"CAN\",\"2\":\"CAN\",\"3\":\"US\",\"4\":\"CAN\",\"5\":\"US\",\"6\":\"US\",\"7\":\"US\",\"8\":\"CAN\",\"9\":\"US\"},\"ad_views\":{\"0\":16,\"1\":42,\"2\":32,\"3\":13,\"4\":63,\"5\":19,\"6\":65,\"7\":23,\"8\":16,\"9\":77},\"items_purchased\":{\"0\":2,\"1\":1,\"2\":0,\"3\":8,\"4\":0,\"5\":5,\"6\":7,\"7\":3,\"8\":0,\"9\":5},\"items_purch_per_ad\":{\"0\":0.125,\"1\":0.0238095238,\"2\":0.0,\"3\":0.6153846154,\"4\":0.0,\"5\":0.2631578947,\"6\":0.1076923077,\"7\":0.1304347826,\"8\":0.0,\"9\":0.0649350649}}\n"
     ]
    }
   ],
   "source": [
    "# Let's open the purchases.csv file, create a file object, and print out the\n",
    "# file text line by line.\n",
    "with open('data/purchases.json') as file:\n",
    "    text = file.readlines()\n",
    "    print(\"This file is {} lines long\".format(len(text)))\n",
    "    for line in text:\n",
    "        print(line)\n"
   ]
  },
  {
   "cell_type": "markdown",
   "metadata": {
    "slideshow": {
     "slide_type": "slide"
    }
   },
   "source": [
    "Yukarıdaki örnekte, daha sonra çalışabileceğimiz bir dosya nesnesi oluşturmak için open () fonksiyonunu kullanıyoruz. Ardından, listenin her bir öğesi, giriş dosyamızdaki bir satır olan stringlerin listesini oluşturmak için dosya nesnesinin .readlines () metodunu kullanırız. I/O dokümantasyonunda  .readlines () ve diğer dosya nesnesi metotları hakkında daha fazla bilgi edinebilirsiniz.\n",
    "\n",
    "Open () ile bir dosya açmak onu kapatana kadar açık bırakacaktır. .close () dosya nesnesi metodu\n",
    "bir dosyayı kapatır. Kaynakları tutan dosyaları el ile kapatmayı unutmak çok kolaydır ve beklenmedik bir soruna neden olur. Neyse ki, Python bize “with” ifadesini sunar, böylelikle yukarıdaki nedenle .close () işlevini kullanmayı hatırlamamız gerekmez, çünkü “with” ile açılan dosyalar ifadeden çıkıldıktan sonra sonra otomatik olarak kapatılır. Bu yöntem dosyaları el ile açarken başka zorlayıcı bir sebebiniz yoksa kullanılabilecek en iyi yöntemdir.\n",
    "\n",
    "Veri bilimcisi olarak ürettiğiniz veri dosyalarının neredeyse tamamı CSV veya JSON dosyaları olacak bu yüzden dosyalara yazmak için Python I/O fonksiyonlarını kullanmayı daha fazla anlatmayacağız. Bu konuyla ilgili herhangi bir ek kaynak isterseniz resmi Python dokümanlarının dosyalara okuma ve yazma bölümüne bakın.\n"
   ]
  },
  {
   "cell_type": "markdown",
   "metadata": {
    "slideshow": {
     "slide_type": "slide"
    }
   },
   "source": [
    "### Encoding hakkında birkaç not\n",
    "\n",
    "Çalıştığınız tüm dosyalar insan tarafından okunabilir karakterlerden yapılmış gibi görünüyor, ancak siz aslında bit olarak, yani birler ve sıfırlar olarak saklanır. Bu tabii ki bazı sorulara sebep olur:  Hangi karakterleri kullanabileceğinizi nereden biliyorsunuz ve birleri ve sıfırları bu özel karakterlere nasıl çeviriyorsunuz?\n",
    "\n",
    "Bugün bunun net bir cevabı var: Unicode ve UTF-8. Python 3'teki tüm stringler Unicode’dur ve UTF-8 mümkün olduğunda Python'un kullandığı varsayılan kodlamadır. Ancak, bazı dosyalar eski olduğundan veya onları oluşturmak için kullanılan yazılım eski olduğundan farklı kodlamalarla oluşturulan dosyalarla karşılaşabilirsiniz. Maalesef bir dosyanın kodlamasını otomatik olarak belirlemek ve sonra doğru olarak kodunu çözmek mümkün değildir. Kodlama hatalarıyla karşılaştığınızda muhtemel kodlamayı tahmin etmeniz ve deneme yanılma yapmanız gerekir\n",
    "\n",
    "Yukarıda da belirtildiği gibi, Microsoft Windows burada oldukça suçludur. Windows'un İngilizce sürümleri, cp1252 kodlamasını, Kiril Windows sürümleri cp1251 kodlamasını vb. kullanır. Eğer dosyanızın kodlamasını manuel olarak belirleyemediyseniz Chardet ile istatistiksel bir saptamayı deneyebilirsiniz.\n",
    "\n",
    "Unicode, bilgisayar tarihine yakından bağlı olan derin bir konudur. Eğer unicode’un hızlı bir pratiğiyle ve geçmişine genel bakış ile ilgileniyorsanız Python belgelerinde bulunan “Unicode HOWTO” bölümü bunun için biçilmiş kaftandır."
   ]
  }
 ],
 "metadata": {
  "celltoolbar": "Slideshow",
  "kernelspec": {
   "display_name": "Python 3",
   "language": "python",
   "name": "python3"
  },
  "language_info": {
   "codemirror_mode": {
    "name": "ipython",
    "version": 3
   },
   "file_extension": ".py",
   "mimetype": "text/x-python",
   "name": "python",
   "nbconvert_exporter": "python",
   "pygments_lexer": "ipython3",
   "version": "3.6.5"
  }
 },
 "nbformat": 4,
 "nbformat_minor": 2
}
