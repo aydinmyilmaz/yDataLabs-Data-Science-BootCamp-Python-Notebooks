{
 "cells": [
  {
   "cell_type": "markdown",
   "metadata": {
    "slideshow": {
     "slide_type": "slide"
    }
   },
   "source": [
    "# NumPy\n",
    "\n",
    "İsmi [_NumPy_](https://docs.scipy.org/doc/numpy/reference/) olan bir pakete başlayacağız. Numpy ileri derece matematik yapmak için ve veri depolamak için kullanan temel bir pakettir. Bu ders boyunca Numpy kullanacağız. \n",
    "\n",
    "Daha önceden Numpy ‘yi yerel ağınıza kurmuş olmalısınız. Halen kurmadıysanız şimdi pip install numpy ile kurun.\n",
    "\n",
    "Numpy’yi kurduktan sonra, paketi ortama çıkartmalıyız bu şekilde programı kullanabiliriz. İmport komutu ile bunu yapabiliriz. Paketi çıkarttığınız zaman fonksiyonları çağırmak için kısaltma kullanma şansınız olacak. Bir çok paket standard kısaltmalar kullanır. Biz de bunu takip edeceğiz. Numpy için kısaltma np dir. Kısaltmaları aşağıdaki gibi çıkartabilir ve kullanabilirsiniz. \n"
   ]
  },
  {
   "cell_type": "code",
   "execution_count": 1,
   "metadata": {
    "slideshow": {
     "slide_type": "slide"
    }
   },
   "outputs": [],
   "source": [
    "import numpy as np"
   ]
  },
  {
   "cell_type": "markdown",
   "metadata": {
    "slideshow": {
     "slide_type": "slide"
    }
   },
   "source": [
    "Şimdi paket makinamıza kuruldu ve çevremize çıkartıldı. Numpy ile çalışmaya hazırız. \n",
    "\n",
    "Başlamadan önce, çıkartma komutu ile bir kod yazmak hakkında bir not yapmakta fayda var. İmport komutu komut dosyası içerisinde veya notebookta herhangi bir hücrede her yerde çalışacaktır. Fakat [Python style](https://www.python.org/dev/peps/pep-0008/#imports) komut dosyasının başında veya ilk hücrede gözükmesini istiyor. (çoğu notebook ilk hücreyi bu amaç için kullanıyor). Gerekli paketler tek bir yere kurulur ve saklanırsa onların doğrulanması kolay bir şekilde olacaktır. \n",
    "\n",
    "\n",
    "\n",
    "## Array\n",
    "\n",
    "Yukarıda söylediğimiz gibi, Numpy Pythonda matematiksel verilerin saklanması ve değiştirilmesi için temel bir pakettir. Numpy bunun yeni bir veri yapısı ile başarır: diziler. \n",
    "\n",
    "Bir numpy dizisi, ilave matematiksel fonksiyonellikte ve özellikler ile bir Python listesi gibi düşünülebilir. Bu dizilerin en büyük özelliklerinden birisi, listeler gibi, çoklu boyuta sahip olabilir. Tek boyutlu bir dizi sıralı bir set değeri gibi çalışır, değişik veri noktaları girilir içine. Diziler index ile ulaşmak için  kapalı parantez işareti kullanır [ ], listeler veya stringslerde olduğu gibi. np.array yazarak bir dizi oluşturabiliriz. Örneğin bir liste:\n",
    "\n",
    "\n"
   ]
  },
  {
   "cell_type": "code",
   "execution_count": 2,
   "metadata": {
    "slideshow": {
     "slide_type": "slide"
    }
   },
   "outputs": [
    {
     "data": {
      "text/plain": [
       "array([0, 1, 2, 3])"
      ]
     },
     "execution_count": 2,
     "metadata": {},
     "output_type": "execute_result"
    }
   ],
   "source": [
    "x = np.array([0, 1, 2, 3])\n",
    "x"
   ]
  },
  {
   "cell_type": "markdown",
   "metadata": {
    "slideshow": {
     "slide_type": "slide"
    }
   },
   "source": [
    "Dizinize manuel olarak bir dizi oluşturarak veya np.arrange ile bir çok boyut ekleyebilirsiniz. Aynı şeyi oluşturmak için iki yolda aşağıda:\n"
   ]
  },
  {
   "cell_type": "code",
   "execution_count": 3,
   "metadata": {
    "slideshow": {
     "slide_type": "slide"
    }
   },
   "outputs": [
    {
     "data": {
      "text/plain": [
       "array([[0, 1, 2, 3],\n",
       "       [4, 5, 6, 7]])"
      ]
     },
     "execution_count": 3,
     "metadata": {},
     "output_type": "execute_result"
    }
   ],
   "source": [
    "w = np.array([[0, 1, 2, 3],[4, 5, 6, 7]])\n",
    "w"
   ]
  },
  {
   "cell_type": "code",
   "execution_count": 4,
   "metadata": {
    "slideshow": {
     "slide_type": "slide"
    }
   },
   "outputs": [
    {
     "data": {
      "text/plain": [
       "array([[0, 1, 2, 3],\n",
       "       [4, 5, 6, 7]])"
      ]
     },
     "execution_count": 4,
     "metadata": {},
     "output_type": "execute_result"
    }
   ],
   "source": [
    "y = np.arange(8).reshape(2, 4)\n",
    "y"
   ]
  },
  {
   "cell_type": "markdown",
   "metadata": {
    "slideshow": {
     "slide_type": "slide"
    }
   },
   "source": [
    "`np.arange()` Python `range()`‘e benzer şekilde çalışır (0 dan başlayan ve 1 ile artış gösteren bir dizi sayı oluşturarak). bir aralığa dönmek yerine, bir diziye dönüyor. `.reshape()` [array metodu](https://docs.scipy.org/doc/numpy/reference/generated/numpy.ndarray.reshape.html) ile başlangıçtaki 8 elemanlı diziyi yeniden şekillendirerek 4 parçalı iki dizi oluşturma avantajına sahibiz. \n",
    "\n",
    "Bununla şimdi kolayca uğraşabilirsiniz. Dizi oluşturmak için `.reshape()` ve `arange()` sık kullanılan yollardır. \n",
    "\n",
    "\n",
    "## Element-wise and Aggregator fonksiyonlar\n",
    "\n",
    "Şu ana kadar Numpy’nin temel veri yapısını gördünüz, bu paketin birkaç fonksiyonelliğini daha tanıtabiliriz. Numpy’nin birincil değeri temel Python’a göre karmaşık aritmetikleri yapabilmesidir. Numpy bu hesaplamaları iki yolla yapabilmenize izin verir: element-wise fonksiyonlar dizi elemanlarının herbiri üzerinde çalışır ve sonra onları yeni diziye çevirir, aggregator fonksiyonlar ise diziyi tek bir değere işler.\n",
    "\n",
    "Basit bir dizi ile bunu deneyelim ve hangisi mümkün görelim. Önce, bazı element-wise fonksiyonları görelim:"
   ]
  },
  {
   "cell_type": "code",
   "execution_count": 5,
   "metadata": {
    "slideshow": {
     "slide_type": "slide"
    }
   },
   "outputs": [
    {
     "name": "stdout",
     "output_type": "stream",
     "text": [
      "[0 1 4 9]\n",
      "[0.         1.         1.41421356 1.73205081]\n",
      "[ 1.          0.54030231 -0.41614684 -0.9899925 ]\n"
     ]
    }
   ],
   "source": [
    "x = np.array([0, 1, 2, 3])\n",
    "\n",
    "# Square each value.\n",
    "print(np.square(x))\n",
    "\n",
    "# Square root of each value.\n",
    "print(np.sqrt(x))\n",
    "\n",
    "# Cosine of each value.\n",
    "print(np.cos(x))\n"
   ]
  },
  {
   "cell_type": "markdown",
   "metadata": {
    "slideshow": {
     "slide_type": "slide"
    }
   },
   "source": [
    "Gördüğünüz gibi bu metot girdi dizi ile aynı uzunlukta diziyi çalıştırıyor, Python fonksiyonu map() gibi. Dizideki her bir elemanı dönüştürmek istediğinizde ve bütün sonuçları toplamak istediğinizde element-wise fonksiyonunları kullanırsınız. \n",
    "Şimdi de aggregator fonksiyonları için bir örnek izleyelim, dizinin her bir elemanını toplayarak tek bir değer elde edelim:"
   ]
  },
  {
   "cell_type": "code",
   "execution_count": 6,
   "metadata": {
    "slideshow": {
     "slide_type": "slide"
    }
   },
   "outputs": [
    {
     "name": "stdout",
     "output_type": "stream",
     "text": [
      "3\n",
      "0\n",
      "1.5\n",
      "1.118033988749895\n"
     ]
    }
   ],
   "source": [
    "x = np.array([0, 1, 2, 3])\n",
    "\n",
    "# Find the maximum value.\n",
    "print(np.max(x))\n",
    "\n",
    "# Find the minimum value.\n",
    "print(np.min(x))\n",
    "\n",
    "# Find the mean of the input array.\n",
    "print(np.mean(x))\n",
    "\n",
    "# Find the standard deviation of the input array.\n",
    "print(np.std(x))"
   ]
  },
  {
   "cell_type": "markdown",
   "metadata": {
    "slideshow": {
     "slide_type": "slide"
    }
   },
   "source": [
    "Kaynak fonksiyonları bir dizi çalıştırmak yerine tek bir değer çalıştırıyor. Bu tam olarak kaynağın yaptığıdır. Bir çok veri değerini alır, bir kurala göre onları bir tek değerde yoğunlaştırır. `np.min()`  kendisine verilen değerlerin en küçüğünü döndürür, `np.mean()` ortalamasını. \n",
    "\n",
    "Bunlar Numpy nin bazı temel fonksiyonları, ama çok daha fazlası var. Ders boyunca paketi kullanmaya devam edeceğiz ve daha fazlasını öğreneceğiz. Eğer daha fazlasını şimdi öğrenmek istiyorsanız temel [NumPy dökümantasyonuna](https://docs.scipy.org/doc/numpy-dev/user/quickstart.html) bakabilirsiniz. \n"
   ]
  }
 ],
 "metadata": {
  "celltoolbar": "Slideshow",
  "kernelspec": {
   "display_name": "Python 3",
   "language": "python",
   "name": "python3"
  },
  "language_info": {
   "codemirror_mode": {
    "name": "ipython",
    "version": 3
   },
   "file_extension": ".py",
   "mimetype": "text/x-python",
   "name": "python",
   "nbconvert_exporter": "python",
   "pygments_lexer": "ipython3",
   "version": "3.6.5"
  }
 },
 "nbformat": 4,
 "nbformat_minor": 2
}
